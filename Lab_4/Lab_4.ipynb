{
 "cells": [
  {
   "cell_type": "markdown",
   "metadata": {},
   "source": [
    "# **Lab Assignment 4**\n",
    "**Creator**: Lauren Enriquez  \n",
    "**Date**: October 2, 2019  \n",
    "\n",
    "The purpose of this lab is to create a database with genes from glycolysis, the citrate cycle, and the pentose phosphate pathway.<br>\n",
    "Four enzymes were selected from Drosophila, E. coli, and humans. <br>"
   ]
  },
  {
   "cell_type": "code",
   "execution_count": null,
   "metadata": {},
   "outputs": [],
   "source": [
    "# Wrappers for supported file formats\n",
    "import string\n",
    "import sqlite3\n",
    "from Bio import Entrez\n",
    "from Bio import SeqIO\n",
    "from Bio import SeqFeature\n",
    "import pandas as pd\n",
    "import sys\n",
    "import urllib.request as ur\n",
    "from sqlite3 import Error"
   ]
  },
  {
   "cell_type": "markdown",
   "metadata": {},
   "source": [
    "### Establish connection to database"
   ]
  },
  {
   "cell_type": "code",
   "execution_count": null,
   "metadata": {},
   "outputs": [],
   "source": [
    "def create_connection(db_file):\n",
    "    \"\"\" create a database connection to a SQLite database \"\"\"\n",
    "    try:\n",
    "        conn = sqlite3.connect(db_file)\n",
    "        print(sqlite3.version)\n",
    "    except Error as e:            \n",
    "        print(e)\n",
    "    finally:\n",
    "        conn.close()\n",
    "\n",
    "if __name__ == '__main__':\n",
    "    create_connection(\"/data/home/5539626/BioE131-231/Lab_4/Lab_4_database.db\")"
   ]
  },
  {
   "cell_type": "markdown",
   "metadata": {},
   "source": [
    "### **Create Genes table, Pathways table, and Enzyme table**"
   ]
  },
  {
   "cell_type": "code",
   "execution_count": null,
   "metadata": {},
   "outputs": [],
   "source": [
    "conn = sqlite3.connect('Lab_4_database.db')\n",
    "c = conn.cursor()"
   ]
  },
  {
   "cell_type": "code",
   "execution_count": null,
   "metadata": {},
   "outputs": [],
   "source": [
    "c.execute(\"DROP TABLE genes;\")\n",
    "c.execute(\"DROP TABLE pathway;\")\n",
    "c.execute(\"DROP TABLE enzyme;\")\n",
    "c.execute(\"DROP TABLE enzyme_pathway;\")"
   ]
  },
  {
   "cell_type": "code",
   "execution_count": null,
   "metadata": {},
   "outputs": [],
   "source": [
    "# Creates Gene Table\n",
    "c.execute(\"\"\"CREATE TABLE genes (id REAL,\n",
    "                                 name TEXT,\n",
    "                                 description TEXT,\n",
    "                                 organism TEXT,\n",
    "                                 nucleotide_seq TEXT);\"\"\")\n",
    "\n",
    "# Creates Pathway Table\n",
    "c.execute(\"\"\"CREATE TABLE pathway (id INT,\n",
    "                                   name TEXT,\n",
    "                                   description TEXT);\"\"\")\n",
    "\n",
    "# Creates Enzyme Table\n",
    "c.execute(\"\"\"CREATE TABLE enzyme (id INT,\n",
    "                                  name TEXT,\n",
    "                                  function TEXT,\n",
    "                                  ECnum INT,\n",
    "                                  cycle TEXT);\"\"\")\n",
    "\n",
    "# Save (commit) the changes\n",
    "conn.commit()"
   ]
  },
  {
   "cell_type": "markdown",
   "metadata": {},
   "source": [
    "### **Data Collection**\n",
    "All data is from Entrez nucleotide and gene databases: <br> https://www.ncbi.nlm.nih.gov/search/?utm_expid=.fBQRRb8XTVS1Ew6CREtJgg.0&utm_referrer=https%3A%2F%2Fwww.ncbi.nlm.nih.gov%2FWeb%2FSearch%2Fentrezfs.html\n",
    "\n",
    "Kegg was used to select the enzymes used for ths lab:<br>\n",
    "https://www.genome.jp/kegg-bin/show_pathway?map00010"
   ]
  },
  {
   "cell_type": "code",
   "execution_count": null,
   "metadata": {},
   "outputs": [],
   "source": [
    "Entrez.email = 'lauren_enriquez@berkeley.edu'\n",
    "handle = Entrez.einfo() # or esearch, efetch, ...\n",
    "record = Entrez.read(handle)\n",
    "handle.close()"
   ]
  },
  {
   "cell_type": "code",
   "execution_count": null,
   "metadata": {},
   "outputs": [],
   "source": [
    "kegg_hsa = \"http://rest.kegg.jp/link/hsa/hsa00010\"\n",
    "kegg_eco = \"http://rest.kegg.jp/link/eco/eco00010\"\n",
    "kegg_dme = \"http://rest.kegg.jp/link/dme/dme00010\"\n",
    "\n",
    "filehandler = ur.urlopen (kegg_hsa) \n",
    "\n",
    "test = []\n",
    "\n",
    "for line in filehandler:\n",
    "    test.append(str(line).strip(\"b'\"))\n",
    "    line = str(line).replace(\"t\",\"\")"
   ]
  },
  {
   "cell_type": "code",
   "execution_count": null,
   "metadata": {},
   "outputs": [],
   "source": [
    "handle = Entrez.esummary(db = \"pubmed\",\n",
    "                         id = \"19304878,14630660\",\n",
    "                         retmode=\"xml\") \n",
    "\n",
    "records = Entrez.parse(handle)"
   ]
  },
  {
   "cell_type": "code",
   "execution_count": null,
   "metadata": {},
   "outputs": [],
   "source": [
    "handle = Entrez.efetch(db = \"nucleotide\",\n",
    "                       id = \"AY851612\",\n",
    "                       rettype = \"gb\",\n",
    "                       retmode=\"text\")"
   ]
  },
  {
   "cell_type": "code",
   "execution_count": null,
   "metadata": {},
   "outputs": [],
   "source": [
    "handle = Entrez.esearch(db = \"nucleotide\",\n",
    "                        term = \"homo sapiens[ORGN] BCRA1\",\n",
    "                        sort = \"relevance\",\n",
    "                        idtype = \"acc\")\n",
    "\n",
    "for i in Entrez.read(handle)[\"IdList\"]:\n",
    "    handle = Entrez.efetch(db =\"nucleotide\",\n",
    "                           id = i,\n",
    "                           rettype =\"fasta\",\n",
    "                           retmode=\"text\")"
   ]
  },
  {
   "cell_type": "markdown",
   "metadata": {},
   "source": [
    "The **above code** returns data as GenBank and using Bio.SeqIO to read the returned GenBank file.<br><br>\n",
    ">**print(handle.read( ))**\n",
    "\n",
    "U11292.1 Homo sapiens Ki nuclear autoantigen mRNA, complete cds\n",
    "GGGCGGACAGGCACAGAGGGAGGGAGCGAGCGAGCAGTGAGTAAGCCAGCAAGGGCGGTCGGGTCCCGAG\n",
    "GTCAGCCGAGATTTCTCAGGTCCCTCCGGCCCCCTCCCTGGAGTCCACAGCGCCTCCGGTGTCCAGAGGA\n",
    "TCGGACACGGCCCGGCCCGGCCATGGCCTCGTTGCTGAAGGTGGATCAGGAAGTGAAGCTCAAGGTTGAT\n",
    "TCTTTCAGGGAGCGGATCACAAGTAAGGCAGAAGACTTGGTGGCAAATTTTTTCCCAAAGAAGTTATTAG\n",
    "AACTTGATAGTTTTCTGAAGGAACCAATCTTAAACATCCATGACCTAACTCAGATCCACTCTGACATGAA\n",
    "TCTCCCAGTCCCTGACCCCATTCTTCTCACCAATAGCCATGATGGACTGGATGGTCCCACTTATAAGAAG\n",
    "CGAAGGTTGGATGAGTGTGAAGAAGCCTTCCAAGGAACCAAGGTGTTTGTGATGCCCAATGGGATGCTGA\n",
    "AAAGCAACCAGCAGCTGGTGGACATTATTGAGAAAGTGAAACCTGAGATCCGGCTGTTGATTGAGAAATG\n",
    "TAACACGCCTTCAGGCAAAGGTCCTCATATATGTTTTGACCTCCAGGTCAAAATGTGGGTACAGCTCCTG\n",
    "ATTCCCAGGATAGAAGATGGAAACAACTTTGGGGTGTCCATTCAGGAGGAAACAGTTGCAGAGCTAAGAA\n",
    "CTGTTGAGAGTGAAGCTGCATCTTATCTGGACCAGATTTCTAGATATTATATTACAAGAGCCAAATTGGT\n",
    "TTCTAAAATAGCTAAATATCCCCATGTGGAGGACTATCGCCGCACCGTGACAGAGATTGATGAGAAAGAA\n",
    "TATATCAGCCTTCGGCTCATCATATCAGAGCTGAGGAATCAATATGTCACTCTACATGACATGATCCTGA\n",
    "AAAATATCGAGAAGATCAAACGGCCCCGGAGCAGCAATGCAGAGACTCTGTACTGAGGCCAGGGCCAGGG\n",
    "CCAGGGGACTCTGTGAGTCTGGCTCAAGACCGACATTGCCTTGGTTTGTTACATGACTATCGTGATGGGG\n",
    "AAACTGGCTGGAAATAGTAATCACACCTCTCTGTTTTTAGTTAGAGTCTAATGAAACTCTCATCTAGTTC\n",
    "TGTGATGTGTTTACCTCTTTTTTCAGGCCTCAGGAACTCTTCTATTTCCTTCCCTAATACCCCACACCCA\n",
    "ACCTGTCGTAATTTCTGGAGAACTCCAGGTTTGTGTGTGCAGGATGTTGGCACAAAAATACCTGTGTTTT\n",
    "CATTCTCCCCCTCTCTCCCTCCTGTGTCTGGCGCTTTATGTTTTCTTCCGTTTGATAATTAGTTGGTTAA\n",
    "AAGCTGAGGGAACCGGAAGGAAAGTGCTAGGTGTTTTTTAGGAACTAGGGTGGAGGGGGGACGAACTTCT\n",
    "CTTCCTCACATGAGGTTACTGTTTCTTTCCTCTGTGGGGCATTGGATCCTCCCACAGTTGCCCTGGTGAT\n",
    "GACTTAGGACTTCCCATCTGTGACATCCCACTTTGAATCTTGATCGTGACAAGAAATACCTTAGGCCTTC\n",
    "AGTCAATTCCGAAGCTCCTTCAGTTGTTTTTATAATGGGCGTTTCACATGCACATATGTGTATGCATGTA\n",
    "TACGCCCATACAGACATGCACACACAGACTCCTACTCCATTAGCTAACATACCCTCCCTCTCCACAACCC\n",
    "GTGTCACATACCTTTCAGGAGGTGACAGTTGTCTTAGTTGTCATCTACCCAGACAAACGTCCTGGGCCCG\n",
    "TCCTCCCTCCTGATACTGTAGCCTCTTGGTACCCAGGGTGAGTTGGTGGAGAACAGAGAGATGAGAAGCA\n",
    "GAGGGCTTGGGGAAAGCCTGTTCCTCTCTGACTCAGCCCTTTTTGGCATTATTGCAAGAGCTTGACTCCT\n",
    "GGTTGCCTTTTCCCAGCCAGTTTTCAGTTGGGGTGAAGGTTTCTGCAAGTGTGAGGTCCAGATGCTGCTG\n",
    "CTCATGTTGGGCTTTCCTTTTGGGAACTATTTCTCTTTATTTATAGTGTCGGGCTTCCGGGGAAAGCAAT\n",
    "CATTGGTGTGTATGTGTATGTGCCATGCACACACGTGCATATATACACATTTGTGTATGTGGAAATGTGC\n",
    "TGGGCAAGTCAAAACTATAGAAGAGTTGCCTCCTGTCTCTCGAATCTTCCAGAGATATCACTTAATTGTT\n",
    "AACAGCTTTTGTGTTAATCCCCTTCATCCCCTAGCACTTTTATTCTACCACGGCTGGAGAGTTGANANCT\n",
    "ACAGTCAGCCTGCCAGTGACTCTTAGTGTCTGTTTCTGACTTATTTTTCCTGTCTCTGTCTTCCAACCCC\n",
    "CAATAATATTTCCCACCGGGGATGCATCATTTTTACTCCCAATATTCTGTAGAGAGGGAGTCAGGATGCT\n",
    "GTCTTCCCACGAATAGTACTCAGTAACAAACCAATTGCATTTTAGTTGGGCAGTGCTCCCACCCACCCTG\n",
    "CAGATCCCTCCAGCTAAAACCCTTCCCCCTTCCCTCCATGTGTTTCTCAGTTTCCCGTTCGTTTGTTGGA\n",
    "CTGTTCCACTGCCCCTCCTCCTCACCCTATCACCCATGGATCGTAATGTAAAATTCTTTTACCATGTCAA\n",
    "GAAATTATTAAAAATACAGGTACTTTGACCTCTTTCTAAAGCCGCAGACCCTGGTGCAATGCTCTGGTGG\n",
    "CTAGGGATGTACTCATGCTCATATGTGTGCACGCTTGGACACCCACCTCCATGGACACCTAGCCACCCTG\n",
    "TTGTGTGNCCTTATGCCAGTTGAGCTGAATCTTTTCCCCAGTATAGTGGAAAGACTGAGGCTTCTGCCTA\n",
    "CTGAGCAAGGTTGGGTGCTTCATTTGTGTTCAGTCTGAATTATGGGAAAGTTAGCTCTTCCCAGACCTAA\n",
    "GCTGCCTTCTCTCCCTACTTTCAG"
   ]
  },
  {
   "cell_type": "markdown",
   "metadata": {},
   "source": [
    "### **Fill Pathways Table**"
   ]
  },
  {
   "cell_type": "code",
   "execution_count": null,
   "metadata": {},
   "outputs": [],
   "source": [
    "c.execute(\"\"\"INSERT INTO pathway VALUES('1',\n",
    "                                         'glycolysis',\n",
    "                                         'Glycolysis is the process of converting glucose into pyruvate and generating small amounts of ATP (energy) and NADH (reducing power).');\"\"\")\n",
    "\n",
    "c.execute(\"\"\"INSERT INTO pathway VALUES('2',\n",
    "                                        'TCA cycle',\n",
    "                                        'The citrate cycle (TCA cycle, Krebs cycle) is an important aerobic pathway for the final steps of the oxidation of carbohydrates and fatty acids.');\"\"\")\n",
    "\n",
    "c.execute(\"\"\"INSERT INTO pathway VALUES('3',\n",
    "                                        'pentose phosphate',\n",
    "                                        'The pentose phosphate pathway is a process of glucose turnover that produces NADPH as reducing equivalents and pentoses as essential parts of nucleotides.');\"\"\")\n",
    "conn.commit()"
   ]
  },
  {
   "cell_type": "markdown",
   "metadata": {},
   "source": [
    "### **Pick 4 enzymes from glycolysis, TCA cycle, and pentose phosphate pathways**"
   ]
  },
  {
   "cell_type": "code",
   "execution_count": null,
   "metadata": {},
   "outputs": [],
   "source": [
    "glycolysis_enz = ['Drosophila[ORGN] 5.1.3.3',\n",
    "                  'Drosophila[ORGN] 2.7.1.1',\n",
    "                  'Drosophila[ORGN] 3.1.3.9',\n",
    "                  'Drosophila[ORGN] 5.3.1.9',\n",
    "                  'Escherichia coli[ORGN] 5.1.3.3',\n",
    "                  'Escherichia coli[ORGN] 5.3.1.1',\n",
    "                  'Escherichia coli[ORGN] 5.3.1.9',\n",
    "                  'Escherichia coli[ORGN] 3.1.3.11',\n",
    "                  'Homo sapiens[ORGN] 4.1.2.13',\n",
    "                  'Homo sapiens[ORGN] 2.7.1.1',\n",
    "                  'Homo sapiens[ORGN] 3.1.3.9',\n",
    "                  'Homo sapiens[ORGN] 5.3.1.9']\n",
    "\n",
    "TCA_enz = ['Drosophila[ORGN] 4.1.1.32', \n",
    "           'Drosophila[ORGN] 2.3.1.12', \n",
    "           'Drosophila[ORGN] 1.2.4.1',\n",
    "           'Drosophila[ORGN] 2.3.3.1',\n",
    "           'Escherichia coli[ORGN] 4.1.1.49',\n",
    "           'Escherichia coli[ORGN] 2.3.3.1',\n",
    "           'Escherichia coli[ORGN] 1.2.7.1',\n",
    "           'Escherichia coli[ORGN] 4.2.1.3',\n",
    "           'Homo sapiens[ORGN] 4.1.1.32', \n",
    "           'Homo sapiens[ORGN] 2.3.1.12', \n",
    "           'Homo sapiens[ORGN] 1.2.4.1',\n",
    "           'Homo sapiens[ORGN] 2.3.3.1']\n",
    "\n",
    "pentose_phosphate_enz = ['Drosophila[ORGN] 1.1.1.49',\n",
    "                         'Drosophila[ORGN] 5.3.1.9',\n",
    "                         'Drosophila[ORGN] 1.1.5.9',\n",
    "                         'Drosophila[ORGN] 1.1.1.44',\n",
    "                         'Escherichia coli[ORGN] 1.1.1.49', \n",
    "                         'Escherichia coli[ORGN] 2.2.1.1',\n",
    "                         'Escherichia coli[ORGN] 3.1.1.31', \n",
    "                         'Escherichia coli[ORGN] 5.3.1.6',\n",
    "                         'Homo sapiens[ORGN] 3.1.1.17', \n",
    "                         'Homo sapiens[ORGN] 3.1.1.31', \n",
    "                         'Homo sapiens[ORGN] 5.1.3.1', \n",
    "                         'Homo sapiens[ORGN] 1.1.1.49']"
   ]
  },
  {
   "cell_type": "markdown",
   "metadata": {},
   "source": [
    "### **Create function to fill enzyme table**\n",
    "Immediately after, the function is called to fill in the table"
   ]
  },
  {
   "cell_type": "code",
   "execution_count": null,
   "metadata": {},
   "outputs": [],
   "source": [
    "def enzyme_table(cycle_enzymes, cycle): \n",
    "    enzymes = []\n",
    "    ECnums = []\n",
    "    count = 0\n",
    "    for enzyme in cycle_enzymes:\n",
    "        handle1 = Entrez.esearch(db = 'protein', \n",
    "                                 term = enzyme, \n",
    "                                 sort = 'relevance', \n",
    "                                 idtype = 'acc')\n",
    "        record = Entrez.read(handle1)['IdList']\n",
    "        enzymes.append(record[0])\n",
    "        ECnum = (enzyme.split()[-1])\n",
    "        ECnums.append(ECnum)\n",
    "\n",
    "    for ID in enzymes:\n",
    "        handle2 = Entrez.efetch(db = 'protein', \n",
    "                                id = ID, \n",
    "                                rettype ='gb', \n",
    "                                retmode ='text')\n",
    "        value = SeqIO.read(handle2, 'gb')\n",
    "        c.execute(\"\"\" INSERT INTO enzyme (id,\n",
    "                                          name, \n",
    "                                          function,\n",
    "                                          ECnum,\n",
    "                                          cycle) \n",
    "                                          VALUES(?,?,?,?,?)\"\"\", \n",
    "                                          (value.id, \n",
    "                                           value.name, \n",
    "                                           value.description, \n",
    "                                           ECnums[count],\n",
    "                                           cycle))\n",
    "        count += 1"
   ]
  },
  {
   "cell_type": "code",
   "execution_count": null,
   "metadata": {},
   "outputs": [],
   "source": [
    "enzyme_table(glycolysis_enz, \"Glycolysis\")\n",
    "conn.commit()"
   ]
  },
  {
   "cell_type": "code",
   "execution_count": null,
   "metadata": {},
   "outputs": [],
   "source": [
    "enzyme_table(TCA_enz, \"TCA\")\n",
    "conn.commit()"
   ]
  },
  {
   "cell_type": "code",
   "execution_count": null,
   "metadata": {},
   "outputs": [],
   "source": [
    "enzyme_table(pentose_phosphate_enz, \"Pentose Phosphate\")\n",
    "conn.commit()"
   ]
  },
  {
   "cell_type": "markdown",
   "metadata": {},
   "source": [
    "### **Create function to fill genes table**\n",
    "Immediately after, the function is called three times to fill in the table"
   ]
  },
  {
   "cell_type": "code",
   "execution_count": null,
   "metadata": {},
   "outputs": [],
   "source": [
    "def gene_table(cycle_enzymes):\n",
    "    genes = []\n",
    "    names = []\n",
    "    descriptions = []\n",
    "    chromo = []\n",
    "    idd = []\n",
    "    organisms = []\n",
    "    sequences = []\n",
    "    \n",
    "    for gene in cycle_enzymes:\n",
    "        handle = Entrez.esearch(db = 'nuccore',\n",
    "                                 term = gene, \n",
    "                                 sort = 'relevance', \n",
    "                                 idtype ='acc')\n",
    "        record = Entrez.read(handle)['IdList'][:1]\n",
    "        genes.append(record)\n",
    "        \n",
    "    for gene in genes:\n",
    "        handle1 = Entrez.efetch(db = 'nuccore', \n",
    "                                id = gene,\n",
    "                                sort = 'relevance',\n",
    "                                rettype = 'gb',\n",
    "                                retmode = 'txt')\n",
    "        seq_record = SeqIO.read(handle1, 'genbank')\n",
    "        seq_id = seq_record.id\n",
    "        idd.append(seq_id)\n",
    "        \n",
    "        sequence = str(seq_record.seq)\n",
    "        sequences.append(sequence)\n",
    "        \n",
    "        name = seq_record.name\n",
    "        names.append(name)\n",
    "        \n",
    "        desc = seq_record.description\n",
    "        descriptions.append(desc)\n",
    "\n",
    "        annotations = seq_record.annotations\n",
    "        source = seq_record.annotations[\"organism\"]\n",
    "        organisms.append(source)\n",
    "    \n",
    "    i = 0\n",
    "    for ID in genes: \n",
    "        c.execute(\"\"\" INSERT INTO genes (id,\n",
    "                                         name,\n",
    "                                         description,\n",
    "                                         organism,\n",
    "                                         nucleotide_seq) \n",
    "                                         VALUES (?,?,?,?,?)\"\"\", \n",
    "                                         (idd[i],\n",
    "                                          names[i], \n",
    "                                          descriptions[i],\n",
    "                                          organisms[i],\n",
    "                                          sequences[i]))\n",
    "        i += 1"
   ]
  },
  {
   "cell_type": "code",
   "execution_count": null,
   "metadata": {},
   "outputs": [],
   "source": [
    "gene_table(glycolysis_enz)\n",
    "conn.commit()"
   ]
  },
  {
   "cell_type": "code",
   "execution_count": null,
   "metadata": {},
   "outputs": [],
   "source": [
    "gene_table(TCA_enz)\n",
    "conn.commit()"
   ]
  },
  {
   "cell_type": "code",
   "execution_count": null,
   "metadata": {},
   "outputs": [],
   "source": [
    "gene_table(pentose_phosphate_enz)\n",
    "conn.commit()"
   ]
  },
  {
   "cell_type": "markdown",
   "metadata": {},
   "source": [
    "***\n",
    "For unknown reasons, the portion of gene data for the pentose phosphate pathway kept giving an error. The specific error was for \"No records in handle\". It **orginally** completed the function, but **recently** it has given this error."
   ]
  },
  {
   "cell_type": "markdown",
   "metadata": {},
   "source": [
    "### **Create Association Table (Enzyme / Pathway)**"
   ]
  },
  {
   "cell_type": "code",
   "execution_count": null,
   "metadata": {},
   "outputs": [],
   "source": [
    "#c.execute(\"DROP TABLE enzyme_pathway;\")\n",
    "c.execute(\"\"\"CREATE TABLE enzyme_pathway AS SELECT id, ECnum, cycle FROM enzyme\"\"\")\n",
    "conn.commit()"
   ]
  },
  {
   "cell_type": "markdown",
   "metadata": {},
   "source": [
    "### **Prints Enzyme Table**\n",
    "To save space, only the first **3 entries** were printed in markdown. <br>\n",
    ">**for row in c.execute(\"\"\"SELECT * FROM enzyme\"\"\"): <br>\n",
    "    print(row) <br>\n",
    "    print('') <br>**\n",
    "    \n",
    "('NP_730671.1', 'NP_730671', 'uncharacterized protein Dmel_CG32445 [Drosophila melanogaster]', '5.1.3.3', 'Glycolysis')\n",
    "\n",
    "('XP_002055038.1', 'XP_002055038', 'uncharacterized protein Dvir_GJ19157 [Drosophila virilis]', '2.7.1.1', 'Glycolysis')\n",
    "\n",
    "('NP_001097063.1', 'NP_001097063', 'Glucose-6-Phosphatase [Drosophila melanogaster]', '3.1.3.9', 'Glycolysis')\n"
   ]
  },
  {
   "cell_type": "markdown",
   "metadata": {},
   "source": [
    "### **Prints Pathway Table**\n",
    ">**for row in c.execute(\"\"\"SELECT * FROM pathway\"\"\"): <br>\n",
    "    print(row)<br>\n",
    "    print('')<br>**\n",
    "    \n",
    "(1, 'glycolysis', 'Glycolysis is the process of converting glucose into pyruvate and generating small amounts of ATP (energy) and NADH (reducing power).')\n",
    "\n",
    "(2, 'TCA cycle', 'The citrate cycle (TCA cycle, Krebs cycle) is an important aerobic pathway for the final steps of the oxidation of carbohydrates and fatty acids.')\n",
    "\n",
    "(3, 'pentose phosphate', 'The pentose phosphate pathway is a process of glucose turnover that produces NADPH as reducing equivalents and pentoses as essential parts of nucleotides.')"
   ]
  },
  {
   "cell_type": "markdown",
   "metadata": {},
   "source": [
    "### **Prints Association Table**\n",
    "#### Enzyme and Pathway relationship\n",
    "There are many relationships between enzyme and pathway. Multiple unique enzymes are in the same pathway. Enzymes with the same EC number come from the same pathway. **An example was dissected from the data printed below**.<br>\n",
    ">**for row in c.execute(\"\"\"SELECT * FROM enzyme_pathway\"\"\"): <br>\n",
    "    print(row) <br>\n",
    "    print('') <br>**\n",
    "\n",
    "('XP_002048320.1', '1.1.1.49', 'Pentose Phosphate')\n",
    "\n",
    "('P0AC53.1', '1.1.1.49', 'Pentose Phosphate')\n",
    "\n",
    "('AAA52501.1', '1.1.1.49', 'Pentose Phosphate')\n",
    "\n",
    "('XP_002048320.1', '1.1.1.49', 'Pentose Phosphate')\n",
    "\n",
    "('P0AC53.1', '1.1.1.49', 'Pentose Phosphate')\n",
    "\n",
    "('AAA52501.1', '1.1.1.49', 'Pentose Phosphate')"
   ]
  },
  {
   "cell_type": "markdown",
   "metadata": {},
   "source": [
    "### **Tests the view of all the tables**"
   ]
  },
  {
   "cell_type": "markdown",
   "metadata": {},
   "source": [
    "print (pd.read_sql_query(\"SELECT * FROM genes;\",conn)) <br>\n",
    "print (pd.read_sql_query(\"SELECT * FROM enzyme;\", conn))<br>\n",
    "print (pd.read_sql_query(\"SELECT * FROM pathway;\", conn))<br>\n",
    "print (pd.read_sql_query(\"SELECT * FROM enzyme_pathway;\", conn))<br>"
   ]
  },
  {
   "cell_type": "code",
   "execution_count": null,
   "metadata": {},
   "outputs": [],
   "source": [
    "conn.close()"
   ]
  }
 ],
 "metadata": {
  "kernelspec": {
   "display_name": "Python 3",
   "language": "python",
   "name": "python3"
  },
  "language_info": {
   "codemirror_mode": {
    "name": "ipython",
    "version": 3
   },
   "file_extension": ".py",
   "mimetype": "text/x-python",
   "name": "python",
   "nbconvert_exporter": "python",
   "pygments_lexer": "ipython3",
   "version": "3.7.3"
  }
 },
 "nbformat": 4,
 "nbformat_minor": 2
}
