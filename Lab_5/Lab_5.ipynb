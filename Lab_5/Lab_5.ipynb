{
 "cells": [
  {
   "cell_type": "markdown",
   "metadata": {},
   "source": [
    "# Lab 5\n",
    "**Creator**: Lauren Enriquez<br>\n",
    "**Date**: October 9, 2019\n",
    "\n",
    "## Overview\n",
    "\n",
    "**Will the AND-1 riboswitch cleave itself when both of its OBS are bound?**<br> Yes<br>\n",
    "**Will the OR-1 riboswitch cleave itself when neither of its OBS are bound?** <br> No <br>\n",
    "**What behavior do we expect from the YES-1 riboswitch?** <br>When the OBS is bound, the site will receive a TRUE (1) input, else it will receive a FALSE (0) input <br>\n",
    "\n",
    "<span style=\"color:blue\">**The Sequences, OBS, and Site II information and images (used throughout this lab) were obtained from:**</span>\n",
    "* Penchovsky, Robert, and Ronald R. Breaker. \"Computational design and experimental validation of oligonucleotide-sensing allosteric ribozymes.\" *Nature biotechnology* 23.11 (2005): 1424."
   ]
  },
  {
   "cell_type": "code",
   "execution_count": 1,
   "metadata": {},
   "outputs": [],
   "source": [
    "# Import Wrappers\n",
    "import subprocess\n",
    "import matplotlib.pyplot as plt\n",
    "import matplotlib.image as mpimg\n",
    "import string"
   ]
  },
  {
   "cell_type": "markdown",
   "metadata": {},
   "source": [
    "## Table of Information\n",
    "For each riboswitch, a table was produce which that contains:<br>\n",
    "1) Riboswitch name <br>\n",
    "2) start and end coordinates of OBS-1 (blue region) <br>\n",
    "3) start and end coordinates of OBS-2 (blue region) <span style=\"color:red\">*only for AND-1 and OR-1*</span> <br>\n",
    "4) start and end coordinates of the two red regions <br>\n",
    "\n",
    "<h2 style='padding: 12px'>Riboswitch Table</h2><table class='table table-striped'> <thead> <tr> <th>Riboswitch name</th> <th>OBS-1 start</th> <th>OBS-1 end</th> <th>OBS-2 start</th> <th>OBS-2 end</th> <th>Red region 1 start</th> <th>Red region 1 end</th> <th>Red region 2 start</th> <th>Red region 2 end</th> </tr> </thead> <tbody> <tr> <th scope='row'>YES-1</th> <td>26</td> <td>47</td> <td>-</td> <td>-</td> <td>16</td> <td>21</td> <td>49</td> <td>54</td> </tr> <tr> <th scope='row'>NOT-1</th> <td>44</td> <td>66</td> <td>-</td> <td>-</td> <td>40</td> <td>44</td> <td>74</td> <td>78</td>  </tr> <tr> <th scope='row'>AND-1</th> <td>30</td> <td>45</td> <td>49</td> <td>64</td> <td>16</td> <td>23</td> <td>70</td> <td>77</td>  </tr> <tr> <th scope='row'>OR-1</th> <td>27</td> <td>46</td> <td>47</td> <td>66</td> <td>16</td> <td>26</td> <td>67</td> <td>77</td> </tr> </tbody> </table>"
   ]
  },
  {
   "cell_type": "markdown",
   "metadata": {},
   "source": [
    "| **Riboswitch name** |      **Sequence**                                                          |\n",
    "|:---------------:|:----------------------------------------------------------------------|\n",
    "| **YES-1**           |GGGCGACCCUGAUGAGCUUGAGUUUAGCUCGUCACUGUCCAGGUUCAAUCAGGCGAAACGGUGAAAGCCGUAGGUUGCCC|\n",
    "| **NOT-1**           |GGCAGGUACAUACAGCUGAUGAGUCCCAAAUAGGACGAAACGCGACACACACCACUAAACCGUGCAGUGUUUUGCGUCCUGUAUUCCACUGC|\n",
    "| **AND-1**           |GGGCGACCCUGAUGAGCUUGGUUUAGUAUUUACAGCUCCAUACAUGAGGUGUUAUCCCUAUGCAAGUUCGAUCAGGCGAAACGGUGAAAGCCGUAGGUUGCCCAGAGACAAU|\n",
    "| **OR-1**            |GGGCGACCCUGAUGAGCUUGGUUGAGUAUUUACAGCUCCAUACAUGAGGUGUUCUCCCUACGCAAGUUCGAUCAGGCGAAACGGUGAAAGCCGUAGGUUGCCC|"
   ]
  },
  {
   "cell_type": "code",
   "execution_count": 2,
   "metadata": {},
   "outputs": [],
   "source": [
    "yes_seq = \"GGGCGACCCUGAUGAGCUUGAGUUUAGCUCGUCACUGUCCAGGUUCAAUCAGGCGAAACGGUGAAAGCCGUAGGUUGCCC\"\n",
    "not_seq = \"GGCAGGUACAUACAGCUGAUGAGUCCCAAAUAGGACGAAACGCGACACACACCACUAAACCGUGCAGUGUUUUGCGUCCUGUAUUCCACUGC\"\n",
    "and_seq = \"GGGCGACCCUGAUGAGCUUGGUUUAGUAUUUACAGCUCCAUACAUGAGGUGUUAUCCCUAUGCAAGUUCGAUCAGGCGAAACGGUGAAAGCCGUAGGUUGCCCAGAGACAAU\"\n",
    "or_seq = \"GGGCGACCCUGAUGAGCUUGGUUGAGUAUUUACAGCUCCAUACAUGAGGUGUUCUCCCUACGCAAGUUCGAUCAGGCGAAACGGUGAAAGCCGUAGGUUGCCC\""
   ]
  },
  {
   "cell_type": "code",
   "execution_count": 3,
   "metadata": {},
   "outputs": [],
   "source": [
    "table = [[\"Ribozyme\", \"OBS-1 start\", \"OBS-1 end\", \"OBS-2 start\", \"OBS-2 end\",\n",
    "          \"Red region 1 start\", \"Red region 1 end\", \"Red region 2 start\", \"Red region 2 end\"],\n",
    "         [\"YES-1\", 26, 47,-1,-1, 16, 21, 49, 54],\n",
    "         [\"NOT-1\", 44, 66,-1,-1, 40, 44, 74,78],\n",
    "         [\"AND-1\", 30, 45, 49, 64, 16, 23, 70, 77],\n",
    "         [\"OR-1\", 27, 46, 47, 66, 16, 26, 67, 77]]"
   ]
  },
  {
   "cell_type": "markdown",
   "metadata": {},
   "source": [
    "## RNA folding of each Riboswitch\n",
    "### (<span style=\"color:red\">Without </span> constraints and <span style=\"color:red\">with </span>default parameters)\n",
    "\n",
    "Below a function was created to generate one plot per riboswitch (YES-1, NOT-1, AND-1, and OR-1). By default, RNAfold outputs a .ps file with an image of the folded sequence using RNAplot. Each file was converted to .png files and were then compared to the structures designed by Penchovsky & Breaker in the paper."
   ]
  },
  {
   "cell_type": "code",
   "execution_count": 4,
   "metadata": {},
   "outputs": [],
   "source": [
    "# Function to conduct the RNA folding on the given sequences\n",
    "def callRNAfold(seq,name):\n",
    "    proc = subprocess.run(['RNAfold'], input = bytes(seq, 'ascii'),\n",
    "                          stdout=subprocess.PIPE,stderr=subprocess.PIPE,check=True)\n",
    "    print(proc.stdout.decode())\n",
    "    \n",
    "    proc2 = subprocess.run(['RNAplot'], input = proc.stdout, stdout=subprocess.PIPE,\n",
    "                           stderr=subprocess.PIPE, check=True)\n",
    "    proc3 = subprocess.call('convert rna.ps %s.png' %name, shell = True)\n",
    "    \n",
    "    #img = mpimg.imread('%s.png' %name)\n",
    "    #plt.rcParams['figure.figsize'] = [6, 6]\n",
    "    #imgplot = plt.imshow(img)\n",
    "\n",
    "    a = subprocess.run(['ls'], stdout=subprocess.PIPE, stderr=subprocess.PIPE,check=True)\n",
    "    #print(a.stdout)"
   ]
  },
  {
   "cell_type": "code",
   "execution_count": 5,
   "metadata": {},
   "outputs": [
    {
     "name": "stdout",
     "output_type": "stream",
     "text": [
      "YES-1\n",
      "GGGCGACCCUGAUGAGCUUGAGUUUAGCUCGUCACUGUCCAGGUUCAAUCAGGCGAAACGGUGAAAGCCGUAGGUUGCCC\n",
      "((((((((.(((((((((.......))))))))).((.((.(((...))).))))..(((((....))))).)))))))) (-33.00)\n",
      "\n",
      " \n",
      "NOT-1\n",
      "GGCAGGUACAUACAGCUGAUGAGUCCCAAAUAGGACGAAACGCGACACACACCACUAAACCGUGCAGUGUUUUGCGUCCUGUAUUCCACUGC\n",
      ".((((....((((((.......((((......))))...((((((.((((..(((......)))..)))).)))))).))))))....)))) (-28.10)\n",
      "\n",
      " \n",
      "AND-1\n",
      "GGGCGACCCUGAUGAGCUUGGUUUAGUAUUUACAGCUCCAUACAUGAGGUGUUAUCCCUAUGCAAGUUCGAUCAGGCGAAACGGUGAAAGCCGUAGGUUGCCCAGAGACAAU\n",
      "((((((((((((((((((((...(((.....(((.(((.......))).))).....)))..))))))).))))).....(((((....))))).))))))))......... (-42.10)\n",
      "\n",
      " \n",
      "OR-1\n",
      "GGGCGACCCUGAUGAGCUUGGUUGAGUAUUUACAGCUCCAUACAUGAGGUGUUCUCCCUACGCAAGUUCGAUCAGGCGAAACGGUGAAAGCCGUAGGUUGCCC\n",
      "((((((((((((((((((((((.(((.....(((.(((.......))).))).)))...)).))))))).))))).....(((((....))))).)))))))) (-40.00)\n",
      "\n"
     ]
    }
   ],
   "source": [
    "print(\"YES-1\")\n",
    "callRNAfold(yes_seq,\"YES-1\")\n",
    "print(\" \")\n",
    "print(\"NOT-1\")\n",
    "callRNAfold(not_seq, \"NOT-1\")\n",
    "print(\" \")\n",
    "print(\"AND-1\")\n",
    "callRNAfold(and_seq, \"AND-1\")\n",
    "print(\" \")\n",
    "print(\"OR-1\")\n",
    "callRNAfold(or_seq, \"OR-1\")"
   ]
  },
  {
   "cell_type": "markdown",
   "metadata": {},
   "source": [
    "## Comparison <span style=\"color:red\">BEFORE</span> constraint parameters (FF case)"
   ]
  },
  {
   "cell_type": "markdown",
   "metadata": {},
   "source": [
    "|**YES-1**|**NOT-1**|**AND-1**|**OR-1**|\n",
    "|:----:|:----:|:----:|:----:|\n",
    "|<img src=\"YES-1/YES-1.png\" width=\"250\" height=\"250\"/>|<img src=\"NOT-1/NOT-1.png\" width=\"250\" height=\"250\"/>|<img src=\"AND-1/AND-1.png\" width=\"250\" height=\"250\"/>|<img src=\"OR-1/OR-1.png\" width=\"250\" height=\"250\"/>|\n",
    "| <img src=\"Riboswitch_Photos/YES-1_riboswitch.png\" width=\"250\" height=\"250\"/> | <img src=\"Riboswitch_Photos/NOT-1_riboswitch.png\" width=\"250\" height=\"250\"/> | <img src=\"Riboswitch_Photos/AND-1_riboswitch.png\" width=\"250\" height=\"250\"/>  | <img src=\"Riboswitch_Photos/OR-1_riboswitch.png\" width=\"250\" height=\"250\"/> |"
   ]
  },
  {
   "cell_type": "markdown",
   "metadata": {},
   "source": [
    "### Questions to Consider for each riboswitch:\n",
    "**Are they the same?** <br>\n",
    "**Are they different?** <br>\n",
    "**Are there any stem-loop structures that don't match up?**<br>\n",
    "### <span style=\"color:blue\">YES-1</span>\n",
    "The YES-1 riboswitch generated does not look similar to the one in the paper.<br>\n",
    "There are 4 stem-loop structures in the riboswitch generated while the riboswitch gate in the paper only has 3. The second long stem (bs 9 - 52) in the paper has two smaller stems, each forming complementary pairs.<br>\n",
    "\n",
    "### <span style=\"color:blue\">NOT-1</span>\n",
    "The NOT-1 riboswitch generated looks similar to the one in the paper.<br>\n",
    "\n",
    "### <span style=\"color:blue\">AND-1</span>\n",
    "The AND-1 riboswitch generated looks similar to the one in the paper. <br> \n",
    "\n",
    "### <span style=\"color:blue\">OR-1</span>\n",
    "The OR-1 riboswitch generated looks similar to the one in the paper. <br><br>\n",
    "\n",
    "**What might explain the differences between the structures generated and those in the paper?**<br>\n",
    "The researchers in the paper controlled the temperture using software technology such as RNAheat to account for the stability of the folded RNA for temperature changes between 20&deg;C to 40&deg;C. The'dominant structures' for each riboswitch logic gate were determined using this method.<br><br> In comparison, when using RNAplot for this lab the sequences were the only variables inserted, without other additional parameters. This explains as to why the YES-1 riboswitch structure generated does not match the paper. This is because RNAplot may configure a structure that is less likely to exist in real conditions."
   ]
  },
  {
   "cell_type": "markdown",
   "metadata": {},
   "source": [
    "# Simulated OBS Binding\n",
    "### (<span style=\"color:red\">With </span> constraints and default parameters)\n",
    "\n",
    "Below two functions were created to generate a new text file with each riboswitch's RNA sequence and the corresponding constraints that represent when the OBS is bound to a target. One function produces the situation in which **ONE** OBS is bound, the other function produces the situation when **TWO** OBS are bound. <br><br>\n",
    "The function ***callRNAfoldCon*** simulates OBS binding with RNAfold, in which the blue OBS region(s) (that we noted down in our table above) is/are prevented from pairing to any other region of the riboswitch. This was done by passing the -C parameter to RNAfold using the files generated.<br><br>\n",
    "The conformations that these riboswitches adopted are pictured below."
   ]
  },
  {
   "cell_type": "code",
   "execution_count": 6,
   "metadata": {},
   "outputs": [],
   "source": [
    "# Function to create a new text file with the RNA sequence with the corresponding constraints identified in the table\n",
    "def addConstraints (name, seq, start, end):\n",
    "    newseq =[]\n",
    "    for i in range(len(seq)):\n",
    "        newseq.append(seq[i])\n",
    "        \n",
    "    for i in range(len(newseq)):\n",
    "        if i in range(start-1,end):\n",
    "            newseq[i] = 'x'\n",
    "        else:\n",
    "            newseq[i] = '.'\n",
    "    \n",
    "    newseq = ''.join(newseq)\n",
    "    \n",
    "    x = open('%s.txt' %name, 'w')\n",
    "    x.write(seq)\n",
    "    x.write('\\n')\n",
    "    x.write(newseq)\n",
    "    x.close()\n",
    "    "
   ]
  },
  {
   "cell_type": "code",
   "execution_count": 7,
   "metadata": {},
   "outputs": [],
   "source": [
    "# Function to create a new text file with the RNA sequence with the corresponding constraints identified in the table\n",
    "# for the TT cases for the AND-1 and OR-1 Riboswitches\n",
    "def addConstraints_2 (name, seq, start1, end1, start2, end2):\n",
    "    newseq =[]\n",
    "    for i in range(len(seq)):\n",
    "        newseq.append(seq[i])\n",
    "        \n",
    "    for i in range(len(newseq)):\n",
    "        if i in range(start1-1,end1) or i in range(start2-1,end2):\n",
    "            newseq[i] = 'x'\n",
    "        else:\n",
    "            newseq[i] = '.'\n",
    "    \n",
    "    newseq = ''.join(newseq)\n",
    "    \n",
    "    x = open('%s.txt' %name, 'w')\n",
    "    x.write(seq)\n",
    "    x.write('\\n')\n",
    "    x.write(newseq)\n",
    "    x.close()"
   ]
  },
  {
   "cell_type": "code",
   "execution_count": 8,
   "metadata": {},
   "outputs": [],
   "source": [
    "# Function to conduct the RNA folding with the constraints\n",
    "def callRNAfoldCon (name):\n",
    "    tmx = open('%s.txt' %name, 'r')\n",
    "    tmx = \"\"+tmx.read()\n",
    "    \n",
    "    proc = subprocess.run('RNAfold -C %s.txt' %name, stdout=subprocess.PIPE,\n",
    "                          stderr=subprocess.PIPE, check=True, shell=True)\n",
    "    print(proc.stdout.decode())\n",
    "    proc2 = subprocess.run(['RNAplot'], input=proc.stdout, stdout=subprocess.PIPE,\n",
    "                           stderr=subprocess.PIPE, check=True)\n",
    "    proc3 = subprocess.call('convert rna.ps %s.png' %name, shell=True)\n",
    "    \n",
    "    #img = mpimg.imread('%s.png' %name)\n",
    "    #plt.rcParams['figure.figsize'] = [6, 6]\n",
    "    #imgplot = plt.imshow(img)"
   ]
  },
  {
   "cell_type": "markdown",
   "metadata": {},
   "source": [
    "## OBS binding in  <span style=\"color:red\">YES-1</span> Riboswitch"
   ]
  },
  {
   "cell_type": "code",
   "execution_count": 9,
   "metadata": {},
   "outputs": [
    {
     "name": "stdout",
     "output_type": "stream",
     "text": [
      "GGGCGACCCUGAUGAGCUUGAGUUUAGCUCGUCACUGUCCAGGUUCAAUCAGGCGAAACGGUGAAAGCCGUAGGUUGCCC\n",
      "((((((((.......((((((...........................))))))...(((((....))))).)))))))) (-24.50)\n",
      "\n"
     ]
    }
   ],
   "source": [
    "addConstraints(\"YES-1_constraints\",yes_seq,26,47)\n",
    "callRNAfoldCon(\"YES-1_constraints\")"
   ]
  },
  {
   "cell_type": "markdown",
   "metadata": {},
   "source": [
    "|**YES-1**|**Figure 2**|\n",
    "|:----:|:----:|\n",
    "|<img src=\"YES-1/YES-1_constraints.png\" width=\"275\" height=\"275\"/>|<img src=\"Riboswitch_Photos/YES-1_riboswitchON.png\" width=\"350\" height=\"350\"/>|"
   ]
  },
  {
   "cell_type": "markdown",
   "metadata": {},
   "source": [
    "**Does it look like the self-cleaving form of YES-1 in Figure 2?** <br>\n",
    "The YES-1 riboswitch with OBS1 binding looks like the form in Figure 2. <br><br>\n",
    "**Are the red regions bound to each other?** <br>\n",
    "The red regions (bps 16-21 and bps 49-54) are bound to one another. <br>"
   ]
  },
  {
   "cell_type": "markdown",
   "metadata": {},
   "source": [
    "## OBS binding in  <span style=\"color:red\">NOT-1 </span>Riboswitch"
   ]
  },
  {
   "cell_type": "code",
   "execution_count": 10,
   "metadata": {},
   "outputs": [
    {
     "name": "stdout",
     "output_type": "stream",
     "text": [
      "GGCAGGUACAUACAGCUGAUGAGUCCCAAAUAGGACGAAACGCGACACACACCACUAAACCGUGCAGUGUUUUGCGUCCUGUAUUCCACUGC\n",
      ".((((....((((((..((((.((((......))))(((((((.......................))))))).))))))))))....)))) (-20.80)\n",
      "\n"
     ]
    }
   ],
   "source": [
    "addConstraints(\"NOT-1_constraints\",not_seq,44,66)\n",
    "callRNAfoldCon(\"NOT-1_constraints\")"
   ]
  },
  {
   "cell_type": "markdown",
   "metadata": {},
   "source": [
    "|**NOT-1**|**Figure 4**|\n",
    "|:----:|:----:|\n",
    "|<img src=\"NOT-1/NOT-1_constraints.png\" width=\"300\" height=\"300\"/>|<img src=\"Riboswitch_Photos/NOT-1_riboswitchON.png\" width=\"350\" height=\"350\"/>|"
   ]
  },
  {
   "cell_type": "markdown",
   "metadata": {},
   "source": [
    "**Does it look like the self-cleaving form of NOT-1 in Figure 4?** <br>\n",
    "The NOT-1 riboswitch with OBS1 binding looks like the form in Figure 4.<br><br>\n",
    "**Are the red regions bound to each other?** <br>\n",
    "The red regions (bps 40-44 and bps 74-78) are not bound to each other. Which is what is desired to prevent RNA clevage. <br>"
   ]
  },
  {
   "cell_type": "markdown",
   "metadata": {},
   "source": [
    "## OBS binding in <span style=\"color:red\">AND-1 </span> Riboswitch"
   ]
  },
  {
   "cell_type": "code",
   "execution_count": 11,
   "metadata": {},
   "outputs": [
    {
     "name": "stdout",
     "output_type": "stream",
     "text": [
      "TF CASE\n",
      "GGGCGACCCUGAUGAGCUUGGUUUAGUAUUUACAGCUCCAUACAUGAGGUGUUAUCCCUAUGCAAGUUCGAUCAGGCGAAACGGUGAAAGCCGUAGGUUGCCCAGAGACAAU\n",
      "((((((((((((((((((((..........................(((.(....))))...))))))).))))).....(((((....))))).))))))))......... (-33.90)\n",
      "\n",
      "FT CASE\n",
      "GGGCGACCCUGAUGAGCUUGGUUUAGUAUUUACAGCUCCAUACAUGAGGUGUUAUCCCUAUGCAAGUUCGAUCAGGCGAAACGGUGAAAGCCGUAGGUUGCCCAGAGACAAU\n",
      "(((((((((((((((((((((...(((.......))))))........................))))).))))).....(((((....))))).))))))))......... (-29.60)\n",
      "\n",
      "TT CASE\n",
      "GGGCGACCCUGAUGAGCUUGGUUUAGUAUUUACAGCUCCAUACAUGAGGUGUUAUCCCUAUGCAAGUUCGAUCAGGCGAAACGGUGAAAGCCGUAGGUUGCCCAGAGACAAU\n",
      "((((((((((((((((((..............................................))))).))))).....(((((....))))).))))))))......... (-27.64)\n",
      "\n"
     ]
    }
   ],
   "source": [
    "#TF Case\n",
    "print(\"TF CASE\")\n",
    "addConstraints(\"AND-1_constraints_1\",and_seq,30,45)\n",
    "callRNAfoldCon(\"AND-1_constraints_1\")\n",
    "\n",
    "#FT Case\n",
    "print(\"FT CASE\")\n",
    "addConstraints(\"AND-1_constraints_2\",and_seq,49,64)\n",
    "callRNAfoldCon(\"AND-1_constraints_2\")\n",
    "\n",
    "#TT Case\n",
    "print(\"TT CASE\")\n",
    "addConstraints_2(\"AND-1_constraints_3\",and_seq,30,45,49,64)\n",
    "callRNAfoldCon(\"AND-1_constraints_3\")"
   ]
  },
  {
   "cell_type": "markdown",
   "metadata": {},
   "source": [
    "### &nbsp;&nbsp;&nbsp;&nbsp;&nbsp;&nbsp;&nbsp;&nbsp;&nbsp;&nbsp;&nbsp;&nbsp;&nbsp;&nbsp;&nbsp;&nbsp;&nbsp;&nbsp;&nbsp;&nbsp;&nbsp;&nbsp;&nbsp;&nbsp;&nbsp;&nbsp;&nbsp;&nbsp;&nbsp;&nbsp;&nbsp;&nbsp;&nbsp;&nbsp;&nbsp;&nbsp;&nbsp;&nbsp;&nbsp;&nbsp;&nbsp;&nbsp;&nbsp;&nbsp;&nbsp;&nbsp;&nbsp;&nbsp;&nbsp;&nbsp;&nbsp;&nbsp;&nbsp;&nbsp;&nbsp;&nbsp;&nbsp;&nbsp;&nbsp;&nbsp;&nbsp;&nbsp;&nbsp;&nbsp;&nbsp;&nbsp;&nbsp;&nbsp;&nbsp;CASE KEY\n",
    "\n",
    "|**CASE**|**OBS1**|**OBS2**|                                      \n",
    "|--|-----------|--------|\n",
    "|FF|not bound|not bound|\n",
    "|TF|bound|not bound|\n",
    "|FT|not bound|bound|\n",
    "|TT|bound|bound|"
   ]
  },
  {
   "cell_type": "markdown",
   "metadata": {},
   "source": [
    "|**T/F CASE**|**Figure 5**|**F/T CASE**|**Figure 5**\n",
    "|:----:|:----:|:----:|:----:|\n",
    "|<img src=\"AND-1/AND-1_constraints_1.png\" width=\"350\" height=\"350\"/>|<img src=\"Riboswitch_Photos/AND-1_riboswitchTF.png\" width=\"350\" height=\"350\"/>|<img src=\"AND-1/AND-1_constraints_2.png\" alt=\"Drawing\" width=\"350\" height=\"350\"/> |<img src=\"Riboswitch_Photos/AND-1_riboswitchFT.png\" width=\"350\" height=\"350\"/>|"
   ]
  },
  {
   "cell_type": "markdown",
   "metadata": {},
   "source": [
    "|**T/T CASE**|**Figure 5**|\n",
    "|:----:|:----:|\n",
    "|<img src=\"AND-1/AND-1_constraints_3.png\" width=\"250\" height=\"250\"/> |<img src=\"Riboswitch_Photos/AND-1_riboswitchTT.png\" width=\"350\" height=\"350\"/> |"
   ]
  },
  {
   "cell_type": "markdown",
   "metadata": {},
   "source": [
    "**Does it look like the self-cleaving form of T/F case AND-1 in Figure 5?** <br>\n",
    "The T/F case generated for teh AND-1 riboswitch does look similar to the one in Figure 5.<br><br>\n",
    "**Are the red regions bound to each other?** <br>\n",
    "The red regions (bps 16-23 and bps 70-77) are not bound to each other. <br><br>\n",
    "**Does it look like the self-cleaving form of F/T case AND-1 in Figure 5?** <br>\n",
    "The F/T case generated for the AND-1 riboswitch does not look similar to the one in Figure 5. The structure generated has an additional stem-loop (bps 40 - 64). OBS2 formed its own stem loop within its base pairs.<br><br>\n",
    "**Are the red regions bound to each other?** <br>\n",
    "The red regions (bps 16-23 and bps 70-77) are not bound to each other. <br><br>\n",
    "**Does it look like the self-cleaving form of T/T case AND-1 in Figure 5?** <br>\n",
    "The T/T case generated for the AND-1 riboswitch looks very similar to the one in Figure 5. The binding between the red regions is slightly off, as well as the binding between OBS-1 and OBS-2. <br> <br>\n",
    "**Are the red regions bound to each other?** <br>\n",
    "Yes, the red regions (bps 16-23 and bps 70-77) are mostly bound together. Two bps are not bound (the pairing at the 5' 'GC').<br>\n",
    "\n",
    "### &nbsp;&nbsp;&nbsp;&nbsp;&nbsp;&nbsp;&nbsp;&nbsp;&nbsp;&nbsp;&nbsp;&nbsp;&nbsp;&nbsp;&nbsp;&nbsp;&nbsp;&nbsp;&nbsp;&nbsp;&nbsp;&nbsp;&nbsp;&nbsp;&nbsp;&nbsp;&nbsp;&nbsp;&nbsp;&nbsp;&nbsp;&nbsp;&nbsp;&nbsp;&nbsp;&nbsp;&nbsp;&nbsp;&nbsp;&nbsp;&nbsp;&nbsp;&nbsp;&nbsp;&nbsp;&nbsp;&nbsp;&nbsp;&nbsp;&nbsp;&nbsp;&nbsp;&nbsp;&nbsp;&nbsp;&nbsp;&nbsp;&nbsp;&nbsp;&nbsp;&nbsp;&nbsp;&nbsp;&nbsp;&nbsp;&nbsp;&nbsp;TRUTH TABLE\n",
    "\n",
    "|**OBS1**|**OBS2**|**CLEAVAGE**|                                    \n",
    "|:--:|:-----------:|:--------:|\n",
    "|0|0|0|\n",
    "|1|0|0|\n",
    "|0|1|0|\n",
    "|1|1|1|"
   ]
  },
  {
   "cell_type": "markdown",
   "metadata": {},
   "source": [
    "## OBS binding in  <span style=\"color:red\">OR-1 </span> Riboswitch"
   ]
  },
  {
   "cell_type": "code",
   "execution_count": 12,
   "metadata": {},
   "outputs": [
    {
     "name": "stdout",
     "output_type": "stream",
     "text": [
      "FT CASE\n",
      "GGGCGACCCUGAUGAGCUUGGUUGAGUAUUUACAGCUCCAUACAUGAGGUGUUCUCCCUACGCAAGUUCGAUCAGGCGAAACGGUGAAAGCCGUAGGUUGCCC\n",
      "((((((((((((((((((((((.(((...........................)))...)).))))))).))))).....(((((....))))).)))))))) (-34.20)\n",
      "\n",
      "TF CASE\n",
      "GGGCGACCCUGAUGAGCUUGGUUGAGUAUUUACAGCUCCAUACAUGAGGUGUUCUCCCUACGCAAGUUCGAUCAGGCGAAACGGUGAAAGCCGUAGGUUGCCC\n",
      "((((((((.......(((((((((((........................................)))))))))))...(((((....))))).)))))))) (-29.09)\n",
      "\n",
      "TT CASE\n",
      "GGGCGACCCUGAUGAGCUUGGUUGAGUAUUUACAGCUCCAUACAUGAGGUGUUCUCCCUACGCAAGUUCGAUCAGGCGAAACGGUGAAAGCCGUAGGUUGCCC\n",
      "((((((((.......(((((((((((........................................)))))))))))...(((((....))))).)))))))) (-29.09)\n",
      "\n"
     ]
    }
   ],
   "source": [
    "#FT CASE\n",
    "print(\"FT CASE\")\n",
    "addConstraints(\"OR-1_constraints_1\",or_seq,27,46)\n",
    "callRNAfoldCon(\"OR-1_constraints_1\")\n",
    "\n",
    "#TF CASE\n",
    "print(\"TF CASE\")\n",
    "addConstraints(\"OR-1_constraints_2\",or_seq,47,66)\n",
    "callRNAfoldCon(\"OR-1_constraints_2\")\n",
    "\n",
    "#TT CASE\n",
    "print(\"TT CASE\")\n",
    "addConstraints_2(\"OR-1_constraints_3\",or_seq,27,46, 47,66)\n",
    "callRNAfoldCon(\"OR-1_constraints_3\")"
   ]
  },
  {
   "cell_type": "markdown",
   "metadata": {},
   "source": [
    "|**F/T CASE**|**T/F CASE**|**T/T CASE**|**Figure 6**|\n",
    "|:----:|:----:|:----:|:----:|\n",
    "|<img src=\"OR-1/OR-1_constraints_2.png\" width=\"300\" height=\"300\"/>|<img src=\"OR-1/OR-1_constraints_1.png\" width=\"300\" height=\"300\"/>|<img src=\"OR-1/OR-1_constraints_3.png\" width=\"300\" height=\"300\"/> |<img src=\"Riboswitch_Photos/OR-1_riboswitches.png\" width=\"300\" height=\"300\"/> |\n"
   ]
  },
  {
   "cell_type": "markdown",
   "metadata": {},
   "source": [
    "**Does it look like the self-cleaving form of T/F case OR-1 in Figure 6?** <br>\n",
    "In the case where OBS-1 is bound, true and OBS-2 is unbound, false, the stucture is different than the one in Figure 6. In this case the OBS-2 sequence is bound partially to right before the OBS-1. 'GAACGCAUCCCUC' is the section of OBS-2 that is bound to OBS-1 in the figure generated.<br><br>\n",
    "**Are the red regions bound to each other?** <br>\n",
    "The red regions (bps 16-26 and bps 67-77) are not perfectly bound to each other. There is slight variation with the pairings throughout.<br><br>\n",
    "**Does it look like the self-cleaving form of F/T case OR-1 in Figure 6?** <br>\n",
    "For the first case, where OR-1 is OBS-2 bound, true, and OBS-1 unbound, false, the structure matches the one in Figure 6.<br><br>\n",
    "**Are the red regions bound to each other?** <br>\n",
    "The red regions (bps 16-26 and bps 67-77) are bound to each other. <br><br>\n",
    "**Does it look like the self-cleaving form of T/T case OR-1 in Figure 6?** <br>\n",
    "The OR-1 where both OBS-1 and OBS-2 are bound and their states are true the structure we created is identical to the structure in Figure 6. <br><br>\n",
    "**Are the red regions bound to each other?** <br>\n",
    "The red regions (bps 16-26 and bps 67-77) are bound to each other. <br>\n",
    "\n",
    "### &nbsp;&nbsp;&nbsp;&nbsp;&nbsp;&nbsp;&nbsp;&nbsp;&nbsp;&nbsp;&nbsp;&nbsp;&nbsp;&nbsp;&nbsp;&nbsp;&nbsp;&nbsp;&nbsp;&nbsp;&nbsp;&nbsp;&nbsp;&nbsp;&nbsp;&nbsp;&nbsp;&nbsp;&nbsp;&nbsp;&nbsp;&nbsp;&nbsp;&nbsp;&nbsp;&nbsp;&nbsp;&nbsp;&nbsp;&nbsp;&nbsp;&nbsp;&nbsp;&nbsp;&nbsp;&nbsp;&nbsp;&nbsp;&nbsp;&nbsp;&nbsp;&nbsp;&nbsp;&nbsp;&nbsp;&nbsp;&nbsp;&nbsp;&nbsp;&nbsp;&nbsp;&nbsp;&nbsp;&nbsp;&nbsp;&nbsp;&nbsp;&nbsp;TRUTH TABLE\n",
    "|**OBS1**|**OBS2**|**CLEAVAGE**|                                    \n",
    "|:--:|:-----------:|:--------:|\n",
    "|0|0|0|\n",
    "|1|0|0|\n",
    "|0|1|1|\n",
    "|1|1|1|"
   ]
  },
  {
   "cell_type": "markdown",
   "metadata": {},
   "source": [
    "**According to your results, do the AND-1 and OR-1 riboswitches work as the paper claims?** <br>\n",
    "For AND-1, the results yielded a truth table that is consistent with the nature of an AND gate. The AND-1 riboswitch does work as the paper claims (based off the results in this lab). <br><br>\n",
    "For OR-1, the results yielded a truth table that is not consistent with the nature of an OR gate, but very similar. The OR-1 riboswitch moderately works as well as the paper claims (based off the results in this lab).<br>"
   ]
  }
 ],
 "metadata": {
  "kernelspec": {
   "display_name": "Python 3",
   "language": "python",
   "name": "python3"
  },
  "language_info": {
   "codemirror_mode": {
    "name": "ipython",
    "version": 3
   },
   "file_extension": ".py",
   "mimetype": "text/x-python",
   "name": "python",
   "nbconvert_exporter": "python",
   "pygments_lexer": "ipython3",
   "version": "3.7.3"
  }
 },
 "nbformat": 4,
 "nbformat_minor": 2
}
