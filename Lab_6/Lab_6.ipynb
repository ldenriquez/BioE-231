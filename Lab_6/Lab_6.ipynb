{
 "cells": [
  {
   "cell_type": "markdown",
   "metadata": {},
   "source": [
    "# Lab 6\n",
    "**Creator**: Lauren Enriquez<br>\n",
    "**Date**: October 18, 2019\n",
    "\n",
    "### Align the reads to the human genome\n",
    "\n",
    "**Command:**\n",
    "```\n",
    "bowtie2 -p 4 --very-fast --no-unal -x /data/references/hg19/hg19 -1 /data/Lab6_data/mixed_reads1.fastq -2 /data/Lab6_data/mixed_reads2.fastq -S ~/BioE131-231/Lab_6/output.sam --un-conc ~/BioE131-231/Lab_6/unaligned.fastq\n",
    "```\n",
    "\n",
    "**Database:** /data/references/hg19/hg19 <br>\n",
    "**Input reads:** /data/Lab6_data/mixed_reads1.fastq<br>\n",
    "&nbsp;&nbsp;&nbsp;&nbsp;&nbsp;&nbsp;&nbsp;&nbsp;&nbsp;&nbsp;&nbsp;&nbsp;&nbsp;&nbsp;&nbsp;&nbsp;&nbsp;&nbsp;&nbsp;&nbsp;\n",
    "/data/Lab6_data/mixed_reads2.fastq<br><br>\n",
    "**Output message:**<br>\n",
    "```\n",
    "1285441 reads; of these:\n",
    "  1285441 (100.00%) were paired; of these:\n",
    "    1285105 (99.97%) aligned concordantly 0 times\n",
    "    114 (0.01%) aligned concordantly exactly 1 time\n",
    "    222 (0.02%) aligned concordantly >1 times\n",
    "    ----\n",
    "    1285105 pairs aligned concordantly 0 times; of these:\n",
    "      227762 (17.72%) aligned discordantly 1 time\n",
    "    ----\n",
    "    1057343 pairs aligned 0 times concordantly or discordantly; of these:\n",
    "      2114686 mates make up the pairs; of these:\n",
    "        2062758 (97.54%) aligned 0 times\n",
    "        15162 (0.72%) aligned exactly 1 time\n",
    "        36766 (1.74%) aligned >1 times\n",
    "19.76% overall alignment rate\n",
    "```\n",
    "\n",
    "**If you use the --un unaligned.fastq option, what will unaligned.fastq contain?** \n",
    "<br>\n",
    "It will contain all the reads that did not align to the human genome (obtained in the database above). <br><br>\n",
    "**What percentage of your sequencing library came from contaminating human DNA?** <br>\n",
    "19.76%, which suggests that there was some contamination made by Jamie.\n",
    "\n",
    "<br>\n",
    "\n",
    "### Align the reads to the *S. oneidensis* reference genome\n",
    "**Command:** \n",
    "```\n",
    "bowtie2 -p 4 --very-fast --no-unal -x /data/references/shewanella_oneidensis_mr-1/shewanella_oneidensis_mr-1 -1 ~/BioE131-231/Lab_6/unaligned.1.fastq -2 ~/BioE131-231/Lab_6/unaligned.2.fastq -S ~/BioE131-231/Lab_6/output2.sam --un-conc ~/BioE131-231/Lab_6/unaligned2.fastq\n",
    "```\n",
    "\n",
    "**Database:** /data/references/shewanella_oneidensis_mr-1/shewanella_oneidensis_mr-1<br>\n",
    "**Input reads:** /BioE131-231/Lab_6/unaligned.1.fastq<br>\n",
    "&nbsp;&nbsp;&nbsp;&nbsp;&nbsp;&nbsp;&nbsp;&nbsp;&nbsp;&nbsp;&nbsp;&nbsp;&nbsp;&nbsp;&nbsp;&nbsp;&nbsp;&nbsp;&nbsp;&nbsp;\n",
    "/BioE131-231/Lab_6/unaligned.2.fastq<br>\n",
    "\n",
    "**Output message:**<br>\n",
    "```\n",
    "1285105 reads; of these:\n",
    "  1285105 (100.00%) were paired; of these:\n",
    "    1049640 (81.68%) aligned concordantly 0 times\n",
    "    220987 (17.20%) aligned concordantly exactly 1 time\n",
    "    14478 (1.13%) aligned concordantly >1 times\n",
    "    ----\n",
    "    1049640 pairs aligned concordantly 0 times; of these:\n",
    "      288853 (27.52%) aligned discordantly 1 time\n",
    "    ----\n",
    "    760787 pairs aligned 0 times concordantly or discordantly; of these:\n",
    "      1521574 mates make up the pairs; of these:\n",
    "        1245335 (81.85%) aligned 0 times\n",
    "        221076 (14.53%) aligned exactly 1 time\n",
    "        55163 (3.63%) aligned >1 times\n",
    "51.55% overall alignment rate\n",
    "```\n",
    "**If you use the --un unaligned.fastq option, what will unaligned.fastq contain?**<br>\n",
    "It will contain all the reads that did not align to the S. oneidensis reference genome (obtained in the database above). This can be reads from other sources of contamination or even reads linked to human contamination that were not detected in the previous iteration of the bowtie algorithm.<br><br>\n",
    "**What percentage of your filtered library didn’t align to the reference genome?**<br> \n",
    "48.45% of the filtered sequence did not aligned to the S. oneidensis reference genome. <br> <br>\n",
    "**If you use --very- sensitive instead of --very-fast, does this percentage increase or decrease?**<br>\n",
    "The percentage increases slightly to 51.78% overall alignment rate. <br>"
   ]
  },
  {
   "cell_type": "markdown",
   "metadata": {},
   "source": [
    "### Convert SAM to BAM\n",
    "In the following samtools commands, we convert SAM to BAM, sort the BAM file by coordinates, generate an index by alignment coordinates, then create a .tab file with a list of coordinates and the number of times a read is aligned to that position.\n",
    "\n",
    "**Commands:**\n",
    "```\n",
    "samtools view -b ~/BioE131-231/Lab_6/output2.sam > ~/BioE131-231/Lab_6/output2.bam\n",
    "samtools sort ~/BioE131-231/Lab_6/output2.bam > ~/BioE131-231/Lab_6/output2.sorted.bam\n",
    "samtools index ~/BioE131-231/Lab_6/output2.sorted.bam\n",
    "samtools depth ~/BioE131-231/Lab_6/output2.sorted.bam > ~/BioE131-231/Lab_6/depths.tab\n",
    "```"
   ]
  },
  {
   "cell_type": "markdown",
   "metadata": {},
   "source": [
    "### Generate a coverage plot"
   ]
  },
  {
   "cell_type": "code",
   "execution_count": 1,
   "metadata": {},
   "outputs": [],
   "source": [
    "import pandas as pd\n",
    "import matplotlib.pyplot as plt\n",
    "import numpy as np"
   ]
  },
  {
   "cell_type": "code",
   "execution_count": 3,
   "metadata": {},
   "outputs": [],
   "source": [
    "depths = pd.read_csv('depths.tab',\n",
    "                     sep ='\\t',\n",
    "                     lineterminator='\\n',\n",
    "                     header = None,\n",
    "                     names = ['Read', 'Position', 'Depth'])"
   ]
  },
  {
   "cell_type": "markdown",
   "metadata": {},
   "source": [
    "#### Calculates the mean, max, and min of the coverage across all the positions"
   ]
  },
  {
   "cell_type": "code",
   "execution_count": 7,
   "metadata": {},
   "outputs": [
    {
     "name": "stdout",
     "output_type": "stream",
     "text": [
      "Mean coverage: 70.01027512051236\n",
      "Max coverage: 472\n",
      "Min coverage: 1\n"
     ]
    }
   ],
   "source": [
    "print('Mean coverage: ' + str(np.mean(depths['Depth'])))\n",
    "print('Max coverage: ' + str(max(depths['Depth'])))\n",
    "print('Min coverage: ' + str(min(depths['Depth'])))"
   ]
  },
  {
   "cell_type": "code",
   "execution_count": 10,
   "metadata": {},
   "outputs": [
    {
     "data": {
      "image/png": "[encoded data removed]",
      "text/plain": [
       "<Figure size 432x288 with 1 Axes>"
      ]
     },
     "metadata": {
      "needs_background": "light"
     },
     "output_type": "display_data"
    }
   ],
   "source": [
    "plt.title(\"Position in the genome vs. Depth of coverage\")\n",
    "plt.xlabel('Position in Genome') \n",
    "plt.ylabel('Depth of Coverage')\n",
    "plt.scatter(x = depths['Position'],y = depths['Depth'], s=1, color = 'red')\n",
    "plt.show()"
   ]
  },
  {
   "cell_type": "code",
   "execution_count": 8,
   "metadata": {},
   "outputs": [
    {
     "data": {
      "image/png": "[encoded data removed]",
      "text/plain": [
       "<Figure size 432x288 with 1 Axes>"
      ]
     },
     "metadata": {
      "needs_background": "light"
     },
     "output_type": "display_data"
    }
   ],
   "source": [
    "hp = np.array(depths['Depth'])\n",
    "plt.title(\"Distribution of Coverage Depth\")\n",
    "plt.xlabel('Depth of Coverage')\n",
    "plt.ylabel('Count')\n",
    "plt.hist(hp, bins=[x for x in range(100) if x % 3 == 0], range = 100)\n",
    "plt.show()"
   ]
  },
  {
   "cell_type": "markdown",
   "metadata": {},
   "source": [
    "### Overall Questions\n",
    "**How many reads map to humans?**<br>\n",
    "19.76% <br><br>\n",
    "**How many map to S. oneidensis?**<br>\n",
    "51.55% <br><br>\n",
    "**Do the reads cover the S. oneidensis genome uniformly?**<br>\n",
    "The coverage is not uniform and some regions have far higher coverage than average (for instance around position 4,500,000) according to the scatterplot. In the histogram, the coverage depth distribution seems to skew to the left (negatively skewed)."
   ]
  },
  {
   "cell_type": "markdown",
   "metadata": {},
   "source": [
    "\n",
    "### EXTRA CREDIT 1\n",
    "#### Aligning the reads to the human reference genome:\n",
    "**Commands:**  \n",
    "samtools view -b ~/BioE131-231/Lab_6/output.sam > ~/BioE131-231/Lab_6/output.bam <br>\n",
    "samtools sort ~/BioE131-231/Lab_6/output.bam > ~/BioE131-231/Lab_6/output.sorted.bam <br>\n",
    "samtools index ~/BioE131-231/Lab_6/output.sorted.bam <br>\n",
    "samtools depth -a  ~/BioE131-231/Lab_6/output.sorted.bam > ~/BioE131-231/Lab_6/depths2.tab\n"
   ]
  },
  {
   "cell_type": "code",
   "execution_count": null,
   "metadata": {},
   "outputs": [],
   "source": []
  }
 ],
 "metadata": {
  "kernelspec": {
   "display_name": "Python 3",
   "language": "python",
   "name": "python3"
  },
  "language_info": {
   "codemirror_mode": {
    "name": "ipython",
    "version": 3
   },
   "file_extension": ".py",
   "mimetype": "text/x-python",
   "name": "python",
   "nbconvert_exporter": "python",
   "pygments_lexer": "ipython3",
   "version": "3.7.3"
  }
 },
 "nbformat": 4,
 "nbformat_minor": 2
}
