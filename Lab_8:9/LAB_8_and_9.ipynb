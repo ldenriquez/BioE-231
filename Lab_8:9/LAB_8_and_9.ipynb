{
 "cells": [
  {
   "cell_type": "markdown",
   "metadata": {},
   "source": [
    "# Lab 8 and 9\n",
    "**Creator:** Lauren Enriquez <br>\n",
    "**Date:** November 6, 2019\n",
    "\n",
    "---\n",
    "## Lab 8"
   ]
  },
  {
   "cell_type": "markdown",
   "metadata": {},
   "source": [
    "**Command line:**\n",
    "```\n",
    "spades.py -1 /data/Lab8_data/illumina_reads_R1.fastq -2 /data/Lab8_data/illumina_reads_R2.fastq --pacbio /data/Lab8_data/pacbio_reads.fastq  -o ~/BioE131-231/Labs_8_and_9/output -t 1```"
   ]
  },
  {
   "cell_type": "markdown",
   "metadata": {},
   "source": [
    "**Why do we expect short reads to produce a more fragmented assembly than long reads?**<br>\n",
    "Assemblies using shorter reads need more reads to cover the whole genome, as a result there are likely to be be more gaps between the reads. Consequently, short reads lead to a more fragmented assembly (ie. more contigs) than long reads.\n",
    "\n",
    "**Why does a single-molecule sequencing like PacBio have a higher error rate than Illumina?**<br>\n",
    "Illumina uses smaller reads. As a result, Illumina can use multiple contigs for one read increasing the coverage for a read. Converseley, single-molecule sequencing (SMRT) like PacBio use longer reads. It uses a single DNA polymerase enzyme with a single molecule of DNA as a template. Single-molecule sequencing also uses a zero-mode waveguide (ZMW) to detect nucleotides which are binding to the template. However, ZMW cannot differentiate a nucleotide that has enters the well verses has left the well. Therefore, a single run of single-molecule sequencing contains many errors. To offset this error rate, PacBio use circular concensus sequencing to get multiple reads of the same template. However, Pacbio still has a higher error rate than Illumina."
   ]
  },
  {
   "cell_type": "markdown",
   "metadata": {},
   "source": [
    "**Error Code:**\n",
    "```\n",
    "== Error ==  system call for: \"['/data/home/softwares/SPAdes-3.13.1-Linux/bin/spades-hammer', '/home/5539626/BioE131-231/Labs_8_and_9/output/corrected/configs/config.info']\" finished abnormally, err code: -11\n",
    "```\n",
    "**Explaination as to why error occured:** <br>\n",
    "The error occured due to the lack of RAM avaiable for the system to store the file information. For the remainder of the lab, the data for ***contigs.fasta*** was obtained from the Lab9_data file provided for the class in the database.\n",
    "\n",
    "---"
   ]
  },
  {
   "cell_type": "markdown",
   "metadata": {},
   "source": [
    "## Lab 9\n",
    "## Generate Assembly Statistics\n",
    "**Command:**\n",
    "```\n",
    "assembly-stats /data/Lab9_data/contigs.fasta /data/Lab9_data/scaffolds.fasta\n",
    "```\n",
    "```\n",
    "stats for /data/Lab9_data/contigs.fasta\n",
    "sum = 6680581, n = 180, ave = 37114.34, largest = 687571\n",
    "N50 = 234690, n = 10\n",
    "N60 = 202142, n = 13\n",
    "N70 = 154232, n = 17\n",
    "N80 = 103366, n = 22\n",
    "N90 = 81821, n = 29\n",
    "N100 = 128, n = 180\n",
    "N_count = 0\n",
    "Gaps = 0\n",
    "-------------------------------------------------------------------------------\n",
    "stats for /data/Lab9_data/scaffolds.fasta\n",
    "sum = 6680345, n = 176, ave = 37956.51, largest = 687571\n",
    "N50 = 234690, n = 10\n",
    "N60 = 202142, n = 13\n",
    "N70 = 154232, n = 17\n",
    "N80 = 103366, n = 22\n",
    "N90 = 83515, n = 29\n",
    "N100 = 129, n = 176\n",
    "N_count = 20\n",
    "Gaps = 2\n",
    "```\n",
    "\n",
    "**Why is N50 is useful statistic to calculate? Why not just list the mean or median contig length? In your assembly, are scaffolds longer than contigs, or are scaffolds approximately equal to contigs?** <br>\n",
    "The N50 statistic is useful in that it is a median statistic that allows for greater weighting of longer contigs. This allows one to have a clearer understanding of how many contigs are greater than the actual mean/median, instead of estimating the distribution of longer contigs in an assembly. We do not primarily use the mean contig length because there are many smaller reads in the total alignment, which would weight our mean towards smaller length contigs that are less useful. N50 tells us about the most meaningful read and overall overview of how successful our reads were in creating contigs.<br><br> In our assembly, scaffolds are approximately equal to contigs for N50-N80 values. Scaffolds had a larger N90 than contigs by 1,694 bases.\n",
    "\n",
    "---"
   ]
  },
  {
   "cell_type": "markdown",
   "metadata": {},
   "source": [
    "## Extra credit : Histogram questions"
   ]
  },
  {
   "cell_type": "code",
   "execution_count": 6,
   "metadata": {},
   "outputs": [
    {
     "name": "stdout",
     "output_type": "stream",
     "text": [
      "13.72480672222222\n"
     ]
    },
    {
     "data": {
      "image/png": "[encoded data removed]",
      "text/plain": [
       "<Figure size 432x288 with 1 Axes>"
      ]
     },
     "metadata": {
      "needs_background": "light"
     },
     "output_type": "display_data"
    },
    {
     "data": {
      "image/png": "[encoded data removed]",
      "text/plain": [
       "<Figure size 432x288 with 1 Axes>"
      ]
     },
     "metadata": {
      "needs_background": "light"
     },
     "output_type": "display_data"
    }
   ],
   "source": [
    "import matplotlib.pyplot as plt\n",
    "file_io = open('/data/Lab9_data/contigs.fasta','r')\n",
    "contig_list = []\n",
    "for line in file_io.read().split('\\n'):\n",
    "    if len(line) is 0 :\n",
    "        break\n",
    "    if line[0] == '>':\n",
    "        tmp = line[line.index('cov')+4:-1]\n",
    "        contig_list.append(float(tmp))\n",
    "\n",
    "print(sum(contig_list)/len((contig_list)))\n",
    "plt.xlabel('Coverage')\n",
    "plt.ylabel('Count')\n",
    "\n",
    "p = plt.hist(contig_list,bins = 100)\n",
    "plt.show()\n",
    "\n",
    "for i in contig_list: \n",
    "    if i > 50.0:\n",
    "        contig_list.remove(i)\n",
    "\n",
    "contig_list[-1] = 0\n",
    "\n",
    "plt.xlabel('Coverage below 50')\n",
    "plt.ylabel('Count')\n",
    "\n",
    "p = plt.hist(contig_list,bins = 100)\n",
    "\n",
    "# display below 50\n",
    "plt.show()"
   ]
  },
  {
   "cell_type": "markdown",
   "metadata": {},
   "source": [
    "**Is coverage uniformly distributed? Does it look Gaussian? Is it bimodalor trimodal? What explains the presence of contigs with coverage an integer multiple of the mean coverage?** <br>\n",
    "The coverage is bimodular and the reason it is an integer multiple of mean coverage is because it is likley that this contig has multiple copies of this region. Which makes sense because many bacteria have multiple copies of the same gene.\n",
    "\n",
    "---"
   ]
  },
  {
   "cell_type": "markdown",
   "metadata": {},
   "source": [
    "## Identify the taxon from which your genome originated\n",
    "**Command:**\n",
    "```\n",
    "rna_hmm3.py -i /data/Lab9_data/contigs.fasta -o ~/BioE131-231/Labs_8_and_9/rna_search.gff -L /data/Lab9_data/HMM3\n",
    "```\n",
    "Manually deleted all lines within other than those containing 16S_rRNA genes. Leaving only 6 seqences, listed below. They were viewed using bedtools.<br><br>\n",
    "**seq_name\tmethod\tfeature\tstart\tend\tevalue\tstrand\tframe\tattribute**<br>\n",
    "`NODE_22_length_103366_cov_10.083467\trna_hmm3\trRNA\t35531\t37075\t0\t+\tNA\t16S_rRNA\n",
    "NODE_17_length_154232_cov_9.587340\trna_hmm3\trRNA\t124542\t126086\t0\t+\tNA\t16S_rRNA\n",
    "NODE_8_length_259210_cov_9.408938\trna_hmm3\trRNA\t63713\t65257\t0\t-\tNA\t16S_rRNA\n",
    "NODE_5_length_298800_cov_8.930188\trna_hmm3\trRNA\t13929\t15473\t0\t+\tNA\t16S_rRNA\n",
    "NODE_3_length_378948_cov_10.013238\trna_hmm3\trRNA\t348500\t350044\t0\t+\tNA\t16S_rRNA\n",
    "NODE_1_length_687571_cov_8.345136\trna_hmm3\trRNA\t46286\t47830\t0\t+\tNA\t16S_rRNA\n",
    "`<br><br>\n",
    "**Command:**\n",
    "```\n",
    "bedtools getfasta -fi /data/Lab9_data/contigs.fasta -bed ~/BioE131-231/Labs_8_and_9/rna_search.gff \n",
    "```\n",
    "**Terminal:**\n",
    ">NODE_22_length_103366_cov_10.083467:35530-37075\n",
    "TTTGAACTGAAGAGTTTGATCATGGCTCAGATTGAACGCTGGCGGCAGGCCTAACACATGCAAGTCGAGCGGTAGAGAGGTGCTTGCACCTCTTGAGAGCGGCGGACGGGTGAGTAATGCCTAGGAATCTGCCTGGTAGTGGGGGATAACGCTCGGAAACGGACGCTAATACCGCATACGTCCTACGGGAGAAAGCAGGGGACCTTCGGGCCTTGCGCTATCAGATGAGCCTAGGTCGGATTAGCTAGTTGGTGAGGTAATGGCTCACCAAGGCGACGATCCGTAACTGGTCTGAGAGGATGATCAGTCACACTGGAACTGAGACACGGTCCAGACTCCTACGGGAGGCAGCAGTGGGGAATATTGGACAATGGGCGAAAGCCTGATCCAGCCATGCCGCGTGTGTGAAGAAGGTCTTCGGATTGTAAAGCACTTTAAGTTGGGAGGAAGGGCAGTTACCTAATACGTAATTGTTTTGACGTTACCGACAGAATAAGCACCGGCTAACTCTGTGCCAGCAGCCGCGGTAATACAGAGGGTGCAAGCGTTAATCGGAATTACTGGGCGTAAAGCGCGCGTAGGTGGTTCGTTAAGTTGGATGTGAAATCCCCGGGCTCAACCTGGGAACTGCATTCAAAACTGACGAGCTAGAGTATGGTAGAGGGTGGTGGAATTTCCTGTGTAGCGGTGAAATGCGTAGATATAGGAAGGAACACCAGTGGCGAAGGCGACCACCTGGACTGATACTGACACTGAGGTGCGAAAGCGTGGGGAGCAAACAGGATTAGATACCCTGGTAGTCCACGCCGTAAACGATGTCAACTAGCCGTTGGGAGCCTTGAGCTCTTAGTGGCGCAGCTAACGCATTAAGTTGACCGCCTGGGGAGTACGGCCGCAAGGTTAAAACTCAAATGAATTGACGGGGGCCCGCACAAGCGGTGGAGCATGTGGTTTAATTCGAAGCAACGCGAAGAACCTTACCAGGCCTTGACATCCAATGAACTTTCCAGAGATGGATTGGTGCCTTCGGGAACATTGAGACAGGTGCTGCATGGCTGTCGTCAGCTCGTGTCGTGAGATGTTGGGTTAAGTCCCGTAACGAGCGCAACCCTTGTCCTTAGTTACCAGCACGTAATGGTGGGCACTCTAAGGAGACTGCCGGTGACAAACCGGAGGAAGGTGGGGATGACGTCAAGTCATCATGGCCCTTACGGCCTGGGCTACACACGTGCTACAATGGTCGGTACAGAGGGTTGCCAAGCCGCGAGGTGGAGCTAATCCCAGAAAACCGATCGTAGTCCGGATCGCAGTCTGCAACTCGACTGCGTGAAGTCGGAATCGCTAGTAATCGCGAATCAGAATGTCGCGGTGAATACGTTCCCGGGCCTTGTACACACCGCCCGTCACACCATGGGAGTGGGTTGCACCAGAAGTAGCTAGTCTAACCTTCGGGAGGACGGTTACCACGGTGTGATTCATGACTGGGGTGAAGTCGTAACAAGGTAGCCGTAGGGGAACCTGCGGCTGGATCACCTCCTTAATCGA\n",
    ">NODE_17_length_154232_cov_9.587340:124541-126086\n",
    "TTTGAACTGAAGAGTTTGATCATGGCTCAGATTGAACGCTGGCGGCAGGCCTAACACATGCAAGTCGAGCGGTAGAGAGGTGCTTGCACCTCTTGAGAGCGGCGGACGGGTGAGTAATGCCTAGGAATCTGCCTGGTAGTGGGGGATAACGCTCGGAAACGGACGCTAATACCGCATACGTCCTACGGGAGAAAGCAGGGGACCTTCGGGCCTTGCGCTATCAGATGAGCCTAGGTCGGATTAGCTAGTTGGTGAGGTAATGGCTCACCAAGGCGACGATCCGTAACTGGTCTGAGAGGATGATCAGTCACACTGGAACTGAGACACGGTCCAGACTCCTACGGGAGGCAGCAGTGGGGAATATTGGACAATGGGCGAAAGCCTGATCCAGCCATGCCGCGTGTGTGAAGAAGGTCTTCGGATTGTAAAGCACTTTAAGTTGGGAGGAAGGGCAGTTACCTAATACGTAATTGTTTTGACGTTACCGACAGAATAAGCACCGGCTAACTCTGTGCCAGCAGCCGCGGTAATACAGAGGGTGCAAGCGTTAATCGGAATTACTGGGCGTAAAGCGCGCGTAGGTGGTTCGTTAAGTTGGATGTGAAATCCCCGGGCTCAACCTGGGAACTGCATTCAAAACTGACGAGCTAGAGTATGGTAGAGGGTGGTGGAATTTCCTGTGTAGCGGTGAAATGCGTAGATATAGGAAGGAACACCAGTGGCGAAGGCGACCACCTGGACTGATACTGACACTGAGGTGCGAAAGCGTGGGGAGCAAACAGGATTAGATACCCTGGTAGTCCACGCCGTAAACGATGTCAACTAGCCGTTGGGAGCCTTGAGCTCTTAGTGGCGCAGCTAACGCATTAAGTTGACCGCCTGGGGAGTACGGCCGCAAGGTTAAAACTCAAATGAATTGACGGGGGCCCGCACAAGCGGTGGAGCATGTGGTTTAATTCGAAGCAACGCGAAGAACCTTACCAGGCCTTGACATCCAATGAACTTTCCAGAGATGGATTGGTGCCTTCGGGAACATTGAGACAGGTGCTGCATGGCTGTCGTCAGCTCGTGTCGTGAGATGTTGGGTTAAGTCCCGTAACGAGCGCAACCCTTGTCCTTAGTTACCAGCACGTAATGGTGGGCACTCTAAGGAGACTGCCGGTGACAAACCGGAGGAAGGTGGGGATGACGTCAAGTCATCATGGCCCTTACGGCCTGGGCTACACACGTGCTACAATGGTCGGTACAGAGGGTTGCCAAGCCGCGAGGTGGAGCTAATCCCAGAAAACCGATCGTAGTCCGGATCGCAGTCTGCAACTCGACTGCGTGAAGTCGGAATCGCTAGTAATCGCGAATCAGAATGTCGCGGTGAATACGTTCCCGGGCCTTGTACACACCGCCCGTCACACCATGGGAGTGGGTTGCACCAGAAGTAGCTAGTCTAACCTTCGGGAGGACGGTTACCACGGTGTGATTCATGACTGGGGTGAAGTCGTAACAAGGTAGCCGTAGGGGAACCTGCGGCTGGATCACCTCCTTAATCGA\n",
    ">NODE_8_length_259210_cov_9.408938:63712-65257\n",
    "TCGATTAAGGAGGTGATCCAGCCGCAGGTTCCCCTACGGCTACCTTGTTACGACTTCACCCCAGTCATGAATCACACCGTGGTAACCGTCCTCCCGAAGGTTAGACTAGCTACTTCTGGTGCAACCCACTCCCATGGTGTGACGGGCGGTGTGTACAAGGCCCGGGAACGTATTCACCGCGACATTCTGATTCGCGATTACTAGCGATTCCGACTTCACGCAGTCGAGTTGCAGACTGCGATCCGGACTACGATCGGTTTTCTGGGATTAGCTCCACCTCGCGGCTTGGCAACCCTCTGTACCGACCATTGTAGCACGTGTGTAGCCCAGGCCGTAAGGGCCATGATGACTTGACGTCATCCCCACCTTCCTCCGGTTTGTCACCGGCAGTCTCCTTAGAGTGCCCACCATTACGTGCTGGTAACTAAGGACAAGGGTTGCGCTCGTTACGGGACTTAACCCAACATCTCACGACACGAGCTGACGACAGCCATGCAGCACCTGTCTCAATGTTCCCGAAGGCACCAATCCATCTCTGGAAAGTTCATTGGATGTCAAGGCCTGGTAAGGTTCTTCGCGTTGCTTCGAATTAAACCACATGCTCCACCGCTTGTGCGGGCCCCCGTCAATTCATTTGAGTTTTAACCTTGCGGCCGTACTCCCCAGGCGGTCAACTTAATGCGTTAGCTGCGCCACTAAGAGCTCAAGGCTCCCAACGGCTAGTTGACATCGTTTACGGCGTGGACTACCAGGGTATCTAATCCTGTTTGCTCCCCACGCTTTCGCACCTCAGTGTCAGTATCAGTCCAGGTGGTCGCCTTCGCCACTGGTGTTCCTTCCTATATCTACGCATTTCACCGCTACACAGGAAATTCCACCACCCTCTACCATACTCTAGCTCGTCAGTTTTGAATGCAGTTCCCAGGTTGAGCCCGGGGATTTCACATCCAACTTAACGAACCACCTACGCGCGCTTTACGCCCAGTAATTCCGATTAACGCTTGCACCCTCTGTATTACCGCGGCTGCTGGCACAGAGTTAGCCGGTGCTTATTCTGTCGGTAACGTCAAAACAATTACGTATTAGGTAACTGCCCTTCCTCCCAACTTAAAGTGCTTTACAATCCGAAGACCTTCTTCACACACGCGGCATGGCTGGATCAGGCTTTCGCCCATTGTCCAATATTCCCCACTGCTGCCTCCCGTAGGAGTCTGGACCGTGTCTCAGTTCCAGTGTGACTGATCATCCTCTCAGACCAGTTACGGATCGTCGCCTTGGTGAGCCATTACCTCACCAACTAGCTAATCCGACCTAGGCTCATCTGATAGCGCAAGGCCCGAAGGTCCCCTGCTTTCTCCCGTAGGACGTATGCGGTATTAGCGTCCGTTTCCGAGCGTTATCCCCCACTACCAGGCAGATTCCTAGGCATTACTCACCCGTCCGCCGCTCTCAAGAGGTGCAAGCACCTCTCTACCGCTCGACTTGCATGTGTTAGGCCTGCCGCCAGCGTTCAATCTGAGCCATGATCAAACTCTTCAGTTCAAA\n",
    ">NODE_5_length_298800_cov_8.930188:13928-15473\n",
    "TTTGAACTGAAGAGTTTGATCATGGCTCAGATTGAACGCTGGCGGCAGGCCTAACACATGCAAGTCGAGCGGTAGAGAGGTGCTTGCACCTCTTGAGAGCGGCGGACGGGTGAGTAATGCCTAGGAATCTGCCTGGTAGTGGGGGATAACGCTCGGAAACGGACGCTAATACCGCATACGTCCTACGGGAGAAAGCAGGGGACCTTCGGGCCTTGCGCTATCAGATGAGCCTAGGTCGGATTAGCTAGTTGGTGAGGTAATGGCTCACCAAGGCGACGATCCGTAACTGGTCTGAGAGGATGATCAGTCACACTGGAACTGAGACACGGTCCAGACTCCTACGGGAGGCAGCAGTGGGGAATATTGGACAATGGGCGAAAGCCTGATCCAGCCATGCCGCGTGTGTGAAGAAGGTCTTCGGATTGTAAAGCACTTTAAGTTGGGAGGAAGGGCAGTTACCTAATACGTAATTGTTTTGACGTTACCGACAGAATAAGCACCGGCTAACTCTGTGCCAGCAGCCGCGGTAATACAGAGGGTGCAAGCGTTAATCGGAATTACTGGGCGTAAAGCGCGCGTAGGTGGTTCGTTAAGTTGGATGTGAAATCCCCGGGCTCAACCTGGGAACTGCATTCAAAACTGACGAGCTAGAGTATGGTAGAGGGTGGTGGAATTTCCTGTGTAGCGGTGAAATGCGTAGATATAGGAAGGAACACCAGTGGCGAAGGCGACCACCTGGACTGATACTGACACTGAGGTGCGAAAGCGTGGGGAGCAAACAGGATTAGATACCCTGGTAGTCCACGCCGTAAACGATGTCAACTAGCCGTTGGGAGCCTTGAGCTCTTAGTGGCGCAGCTAACGCATTAAGTTGACCGCCTGGGGAGTACGGCCGCAAGGTTAAAACTCAAATGAATTGACGGGGGCCCGCACAAGCGGTGGAGCATGTGGTTTAATTCGAAGCAACGCGAAGAACCTTACCAGGCCTTGACATCCAATGAACTTTCCAGAGATGGATTGGTGCCTTCGGGAACATTGAGACAGGTGCTGCATGGCTGTCGTCAGCTCGTGTCGTGAGATGTTGGGTTAAGTCCCGTAACGAGCGCAACCCTTGTCCTTAGTTACCAGCACGTAATGGTGGGCACTCTAAGGAGACTGCCGGTGACAAACCGGAGGAAGGTGGGGATGACGTCAAGTCATCATGGCCCTTACGGCCTGGGCTACACACGTGCTACAATGGTCGGTACAGAGGGTTGCCAAGCCGCGAGGTGGAGCTAATCCCAGAAAACCGATCGTAGTCCGGATCGCAGTCTGCAACTCGACTGCGTGAAGTCGGAATCGCTAGTAATCGCGAATCAGAATGTCGCGGTGAATACGTTCCCGGGCCTTGTACACACCGCCCGTCACACCATGGGAGTGGGTTGCACCAGAAGTAGCTAGTCTAACCTTCGGGAGGACGGTTACCACGGTGTGATTCATGACTGGGGTGAAGTCGTAACAAGGTAGCCGTAGGGGAACCTGCGGCTGGATCACCTCCTTAATCGA\n",
    ">NODE_3_length_378948_cov_10.013238:348499-350044\n",
    "TTTGAACTGAAGAGTTTGATCATGGCTCAGATTGAACGCTGGCGGCAGGCCTAACACATGCAAGTCGAGCGGTAGAGAGGTGCTTGCACCTCTTGAGAGCGGCGGACGGGTGAGTAATGCCTAGGAATCTGCCTGGTAGTGGGGGATAACGCTCGGAAACGGACGCTAATACCGCATACGTCCTACGGGAGAAAGCAGGGGACCTTCGGGCCTTGCGCTATCAGATGAGCCTAGGTCGGATTAGCTAGTTGGTGAGGTAATGGCTCACCAAGGCGACGATCCGTAACTGGTCTGAGAGGATGATCAGTCACACTGGAACTGAGACACGGTCCAGACTCCTACGGGAGGCAGCAGTGGGGAATATTGGACAATGGGCGAAAGCCTGATCCAGCCATGCCGCGTGTGTGAAGAAGGTCTTCGGATTGTAAAGCACTTTAAGTTGGGAGGAAGGGCAGTTACCTAATACGTAATTGTTTTGACGTTACCGACAGAATAAGCACCGGCTAACTCTGTGCCAGCAGCCGCGGTAATACAGAGGGTGCAAGCGTTAATCGGAATTACTGGGCGTAAAGCGCGCGTAGGTGGTTCGTTAAGTTGGATGTGAAATCCCCGGGCTCAACCTGGGAACTGCATTCAAAACTGACGAGCTAGAGTATGGTAGAGGGTGGTGGAATTTCCTGTGTAGCGGTGAAATGCGTAGATATAGGAAGGAACACCAGTGGCGAAGGCGACCACCTGGACTGATACTGACACTGAGGTGCGAAAGCGTGGGGAGCAAACAGGATTAGATACCCTGGTAGTCCACGCCGTAAACGATGTCAACTAGCCGTTGGGAGCCTTGAGCTCTTAGTGGCGCAGCTAACGCATTAAGTTGACCGCCTGGGGAGTACGGCCGCAAGGTTAAAACTCAAATGAATTGACGGGGGCCCGCACAAGCGGTGGAGCATGTGGTTTAATTCGAAGCAACGCGAAGAACCTTACCAGGCCTTGACATCCAATGAACTTTCCAGAGATGGATTGGTGCCTTCGGGAACATTGAGACAGGTGCTGCATGGCTGTCGTCAGCTCGTGTCGTGAGATGTTGGGTTAAGTCCCGTAACGAGCGCAACCCTTGTCCTTAGTTACCAGCACGTAATGGTGGGCACTCTAAGGAGACTGCCGGTGACAAACCGGAGGAAGGTGGGGATGACGTCAAGTCATCATGGCCCTTACGGCCTGGGCTACACACGTGCTACAATGGTCGGTACAGAGGGTTGCCAAGCCGCGAGGTGGAGCTAATCCCAGAAAACCGATCGTAGTCCGGATCGCAGTCTGCAACTCGACTGCGTGAAGTCGGAATCGCTAGTAATCGCGAATCAGAATGTCGCGGTGAATACGTTCCCGGGCCTTGTACACACCGCCCGTCACACCATGGGAGTGGGTTGCACCAGAAGTAGCTAGTCTAACCTTCGGGAGGACGGTTACCACGGTGTGATTCATGACTGGGGTGAAGTCGTAACAAGGTAGCCGTAGGGGAACCTGCGGCTGGATCACCTCCTTAATCGA\n",
    ">NODE_1_length_687571_cov_8.345136:46285-47830\n",
    "TTTGAACTGAAGAGTTTGATCATGGCTCAGATTGAACGCTGGCGGCAGGCCTAACACATGCAAGTCGAGCGGTAGAGAGGTGCTTGCACCTCTTGAGAGCGGCGGACGGGTGAGTAATGCCTAGGAATCTGCCTGGTAGTGGGGGATAACGCTCGGAAACGGACGCTAATACCGCATACGTCCTACGGGAGAAAGCAGGGGACCTTCGGGCCTTGCGCTATCAGATGAGCCTAGGTCGGATTAGCTAGTTGGTGAGGTAATGGCTCACCAAGGCGACGATCCGTAACTGGTCTGAGAGGATGATCAGTCACACTGGAACTGAGACACGGTCCAGACTCCTACGGGAGGCAGCAGTGGGGAATATTGGACAATGGGCGAAAGCCTGATCCAGCCATGCCGCGTGTGTGAAGAAGGTCTTCGGATTGTAAAGCACTTTAAGTTGGGAGGAAGGGCAGTTACCTAATACGTAATTGTTTTGACGTTACCGACAGAATAAGCACCGGCTAACTCTGTGCCAGCAGCCGCGGTAATACAGAGGGTGCAAGCGTTAATCGGAATTACTGGGCGTAAAGCGCGCGTAGGTGGTTCGTTAAGTTGGATGTGAAATCCCCGGGCTCAACCTGGGAACTGCATTCAAAACTGACGAGCTAGAGTATGGTAGAGGGTGGTGGAATTTCCTGTGTAGCGGTGAAATGCGTAGATATAGGAAGGAACACCAGTGGCGAAGGCGACCACCTGGACTGATACTGACACTGAGGTGCGAAAGCGTGGGGAGCAAACAGGATTAGATACCCTGGTAGTCCACGCCGTAAACGATGTCAACTAGCCGTTGGGAGCCTTGAGCTCTTAGTGGCGCAGCTAACGCATTAAGTTGACCGCCTGGGGAGTACGGCCGCAAGGTTAAAACTCAAATGAATTGACGGGGGCCCGCACAAGCGGTGGAGCATGTGGTTTAATTCGAAGCAACGCGAAGAACCTTACCAGGCCTTGACATCCAATGAACTTTCCAGAGATGGATTGGTGCCTTCGGGAACATTGAGACAGGTGCTGCATGGCTGTCGTCAGCTCGTGTCGTGAGATGTTGGGTTAAGTCCCGTAACGAGCGCAACCCTTGTCCTTAGTTACCAGCACGTAATGGTGGGCACTCTAAGGAGACTGCCGGTGACAAACCGGAGGAAGGTGGGGATGACGTCAAGTCATCATGGCCCTTACGGCCTGGGCTACACACGTGCTACAATGGTCGGTACAGAGGGTTGCCAAGCCGCGAGGTGGAGCTAATCCCAGAAAACCGATCGTAGTCCGGATCGCAGTCTGCAACTCGACTGCGTGAAGTCGGAATCGCTAGTAATCGCGAATCAGAATGTCGCGGTGAATACGTTCCCGGGCCTTGTACACACCGCCCGTCACACCATGGGAGTGGGTTGCACCAGAAGTAGCTAGTCTAACCTTCGGGAGGACGGTTACCACGGTGTGATTCATGACTGGGGTGAAGTCGTAACAAGGTAGCCGTAGGGGAACCTGCGGCTGGATCACCTCCTTAATCGA\n",
    "\n",
    "### Ribosomal Database Project’s SeqMatch tool\n",
    "#### Genus: Pseudomonas\n",
    "**Link:** https://rdp.cme.msu.edu/seqmatch/seqmatch_sum.jsp?qvector=204&depth=0&currentRoot=0&num=20<br><br>\n",
    "All of the sequences had similar results. The top similarity score (S_ab score) was ***Pseudomonas frederiksbrgensis*** and the most common (frequent) match was ***Pseudomonas mandelii***.\n",
    "The picture below shows the seqMatch result of 1 match.\n",
    "<img src=\"Genus-identification.png\" width=\"700\" height=\"500\"/>"
   ]
  },
  {
   "cell_type": "markdown",
   "metadata": {},
   "source": [
    "## Genome and Annotation\n",
    "### RAST\n",
    "**Link:** http://rast.nmpdr.org/seedviewer.cgi?page=Organism&organism=6666666.491484 <br>\n",
    "<img src=\"RAST_info.png\" width=\"900\" height=\"500\"/>\n",
    "<img src=\"RAST.png\" width=\"900\" height=\"500\"/>\n",
    "\n",
    "### BASys\n",
    "BASys was taking too long to recieve the data from. Instead, the genome was analyzed on DFAST, a bacterial genome annotation pipeline.\n",
    "\n",
    "## DFAST\n",
    "**Links:** https://dfast.nig.ac.jp/analysis/annotation/40cb5bcb-c2bf-49de-9ae4-fc7ad752faf6<br>\n",
    "https://dfast.nig.ac.jp/analysis/annotation/40cb5bcb-c2bf-49de-9ae4-fc7ad752faf6/features<br>\n",
    "<img src=\"Stats_genome.png\" width=\"400\" height=\"400\"/>\n",
    "A TSV file labeled **\"features.tsv\"** is provided in the **Labs_8_and_9 folder** that contains further information about the genome. It particular it has a category labeled \"product\" which has a predicted description of what a given conting sequence encodes for.<br>\n",
    "\n",
    "Example entries:<br>\n",
    "\n",
    "|number|locus|sequence|location|feature|product|\n",
    "|:---:|:---:|:---:|:---:|:---:|:---:|\n",
    "|8| LOCUS_00080| sequence001| complement(4043..6184)| CDS| chemotaxis transducer|\n",
    "|1056| LOCUS_10420| sequence003|complement(65407..67434)| CDS| type IV secretion protein Rhs|"
   ]
  },
  {
   "attachments": {},
   "cell_type": "markdown",
   "metadata": {},
   "source": [
    "## Research and Write Up\n",
    "The alignments most strongly matched those of the genus *Pseudomonas*, specifically the specie *frederiksbergensis* and *mandelii*. The organism is a gram-negative bacteria. The size of the genome is 6,678,084 base pairs, with a GC content of 58.7% and a total of 6,363 coding subsequences. According to the RAST genome annotation, some of the highest scoring, closest neighbors include *Pseudomonas aeruginosa* and *Pseudomonas fluorescens*. The DFAST genome annotation had a slight variation in data described before. It stated that there were 6,128 coding subsequences with 18 rRNAs and 71 tRNAs in the subsequences . The DFAST annotation also provided descriptions of the proteins that are translated from the genome.\n",
    "\n",
    "The Pseudomonas genus reside in wet and warm conditions, such as in water, damp areas, and soil. They are a mildly infectious bacterium. Members of the *Pseudomonas* genus are generally non-infectious to healthy individuals, but they can be dangerous to those who are surrounded by wet or damp environments, have compromised immune systems, or have exposed wounds.\n",
    "Additionally, some species are known to fluoresce. For example, *Pseudomonas aeruginosa* secretes a fluorescent molecule known as pyoverdin. In the genome annotated for this lab there are 5 genes that encode pyoverdin, leading to the possibility that this species may have the ability to fluoresce. \n",
    "\n",
    "The genome annotation of the bacterium had several drug resistance markers. The RAST annotation identified tolerance to colicin E2, streptothricin and fosfomycin resistance as well as multidrug resistance via efflux pumps. Efflux pumps serve to pump antibiotics out of the bacteria's cytosol. Chloramphenicol, penicillin and tetracycline have been shown to be susceptible to efflux pump overexpression resistance. The pumps that are responsible for this resistance in gram negative bacteria are members of the RND family. These pumps connect the inner and outer membranes. The *Pseudomonas* strain sequenced in this lab may have antibiotic resistance via efflux pump pathway. DFAST identify emrA and emrB in the genome. These are two proteins that are involved in the efflux pump pathway. The factors that allow bacterial propagation are dependent on sending out virulence determinants into the environment. It is hard to determine if this bacterium has upregulation up the genes that encode emrA and emrB.\n",
    "\n",
    "The genome encodes several known toxins. Some of which include toxin HipA, toxin HigB-2, and antitoxin HicB. This was found in the DFAST features.tsv file. The toxin HipA inhibits the translation process by phosphoration of GltX:tRNA at its ATP binding site. It is classified as a Type II toxin-antitoxin system.\n",
    "\n",
    "## References\n",
    "1) https://www.ncbi.nlm.nih.gov/pubmed/16845433 <br>\n",
    "2) https://www.ncbi.nlm.nih.gov/pmc/articles/PMC5812544/pdf/fux006.pdf![image.png](attachment:image.png)<br>\n",
    "\n",
    " "
   ]
  }
 ],
 "metadata": {
  "kernelspec": {
   "display_name": "Python 3",
   "language": "python",
   "name": "python3"
  },
  "language_info": {
   "codemirror_mode": {
    "name": "ipython",
    "version": 3
   },
   "file_extension": ".py",
   "mimetype": "text/x-python",
   "name": "python",
   "nbconvert_exporter": "python",
   "pygments_lexer": "ipython3",
   "version": "3.7.3"
  }
 },
 "nbformat": 4,
 "nbformat_minor": 2
}
